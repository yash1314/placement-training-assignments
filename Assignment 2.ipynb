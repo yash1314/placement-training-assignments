{
 "cells": [
  {
   "cell_type": "markdown",
   "id": "0b38e93e",
   "metadata": {},
   "source": [
    "**Question 1** Given an integer array nums of 2n integers, group these integers into n pairs (a1, b1), (a2, b2),..., (an, bn) such that the sum of min(ai, bi) for all i is maximized. Return the maximized sum.\n",
    "\n",
    "Example 1: Input: nums = [1,4,3,2] Output: 4\n",
    "\n",
    "Explanation: All possible pairings (ignoring the ordering of elements) are:\n",
    "\n",
    "(1, 4), (2, 3) -> min(1, 4) + min(2, 3) = 1 + 2 = 3\n",
    "(1, 3), (2, 4) -> min(1, 3) + min(2, 4) = 1 + 2 = 3\n",
    "(1, 2), (3, 4) -> min(1, 2) + min(3, 4) = 1 + 3 = 4\n",
    "So the maximum possible sum is 4"
   ]
  },
  {
   "cell_type": "code",
   "execution_count": 1,
   "id": "89b7bfcb",
   "metadata": {},
   "outputs": [],
   "source": [
    "\n",
    "def PairSum(nums):\n",
    "    nums.sort()\n",
    "    res = 0\n",
    "    for i in range(0, len(nums), 2):\n",
    "        res += nums[i]\n",
    "    return res\n"
   ]
  },
  {
   "cell_type": "code",
   "execution_count": 3,
   "id": "fa2c392d",
   "metadata": {},
   "outputs": [
    {
     "data": {
      "text/plain": [
       "4"
      ]
     },
     "execution_count": 3,
     "metadata": {},
     "output_type": "execute_result"
    }
   ],
   "source": [
    "arr = [1,4,3,2]\n",
    "PairSum(arr)"
   ]
  },
  {
   "cell_type": "markdown",
   "id": "7b79e9e6",
   "metadata": {},
   "source": [
    "**Question 2** Alice has n candies, where the ith candy is of type candyType[i]. Alice noticed that she started to gain weight, so she visited a doctor.\n",
    "\n",
    "The doctor advised Alice to only eat n / 2 of the candies she has (n is always even). Alice likes her candies very much, and she wants to eat the maximum number of different types of candies while still following the doctor's advice.\n",
    "\n",
    "Given the integer array candyType of length n, return the maximum number of different types of candies she can eat if she only eats n / 2 of them.\n",
    "\n",
    "Example 1: Input: candyType = [1,1,2,2,3,3] Output: 3\n",
    "\n",
    "Explanation: Alice can only eat 6 / 2 = 3 candies. Since there are only 3 types, she can eat one of each type."
   ]
  },
  {
   "cell_type": "code",
   "execution_count": 4,
   "id": "59197cca",
   "metadata": {},
   "outputs": [],
   "source": [
    "def Candies(candyType):\n",
    "    \n",
    "# Using set to count the number of the unique candies\n",
    "    unique_candies = set(candyType)\n",
    "        \n",
    "# Return the minimum between the number of unique candies and half the length of the input array\n",
    "    return min(len(unique_candies), len(candyType)//2)"
   ]
  },
  {
   "cell_type": "code",
   "execution_count": 5,
   "id": "0b4d4bbc",
   "metadata": {},
   "outputs": [
    {
     "data": {
      "text/plain": [
       "3"
      ]
     },
     "execution_count": 5,
     "metadata": {},
     "output_type": "execute_result"
    }
   ],
   "source": [
    "Candy = [1,1,2,2,3,3]\n",
    "\n",
    "Candies(Candy)"
   ]
  },
  {
   "cell_type": "markdown",
   "id": "f6e52816",
   "metadata": {},
   "source": [
    "**Question 3** We define a harmonious array as an array where the difference between its maximum value and its minimum value is exactly 1.\n",
    "\n",
    "Given an integer array nums, return the length of its longest harmonious subsequence among all its possible subsequences.\n",
    "\n",
    "A subsequence of an array is a sequence that can be derived from the array by deleting some or no elements without changing the order of the remaining elements.\n",
    "\n",
    "Example 1: Input: nums = [1,3,2,2,5,2,3,7] Output: 5\n",
    "\n",
    "Explanation: The longest harmonious subsequence is [3,2,2,2,3]."
   ]
  },
  {
   "cell_type": "code",
   "execution_count": 6,
   "id": "b5c9e4de",
   "metadata": {},
   "outputs": [],
   "source": [
    "def find(nums):\n",
    "\n",
    "    d, a = {}, 0\n",
    "    for i in nums:\n",
    "        if i not in d: d[i] = 1\n",
    "        else: d[i] += 1\n",
    "    for i in d:\n",
    "        if i + 1 in d.keys():\n",
    "            a = max(a, d[i] + d[i+1])\n",
    "    return a\n"
   ]
  },
  {
   "cell_type": "code",
   "execution_count": 7,
   "id": "f5a2afd4",
   "metadata": {},
   "outputs": [
    {
     "data": {
      "text/plain": [
       "5"
      ]
     },
     "execution_count": 7,
     "metadata": {},
     "output_type": "execute_result"
    }
   ],
   "source": [
    "aarr = [1,3,2,2,5,2,3,7]\n",
    "\n",
    "find(aarr)"
   ]
  },
  {
   "cell_type": "markdown",
   "id": "9ad17096",
   "metadata": {},
   "source": [
    "**Question 4** You have a long flowerbed in which some of the plots are planted, and some are not. However, flowers cannot be planted in adjacent plots. Given an integer array flowerbed containing 0's and 1's, where 0 means empty and 1 means not empty, and an integer n, return true if n new flowers can be planted in the flowerbed without violating the no-adjacent-flowers rule and false otherwise.\n",
    "\n",
    "Example 1: Input: flowerbed = [1,0,0,0,1], n = 1\n",
    "\n",
    "Output: true"
   ]
  },
  {
   "cell_type": "code",
   "execution_count": 8,
   "id": "e3af1163",
   "metadata": {},
   "outputs": [],
   "source": [
    "def flowers(flowerbed, n):\n",
    "    if n == 0:\n",
    "        return True\n",
    "    for i in range(len(flowerbed)):\n",
    "        if flowerbed[i] == 0 and (i == 0 or flowerbed[i-1] == 0) and (i == len(flowerbed)-1 or flowerbed[i+1] == 0):\n",
    "            flowerbed[i] = 1\n",
    "            n -= 1\n",
    "            if n == 0:\n",
    "                return True\n",
    "    return False"
   ]
  },
  {
   "cell_type": "code",
   "execution_count": 9,
   "id": "5625477f",
   "metadata": {},
   "outputs": [
    {
     "data": {
      "text/plain": [
       "True"
      ]
     },
     "execution_count": 9,
     "metadata": {},
     "output_type": "execute_result"
    }
   ],
   "source": [
    "flowerbed = [1,0,0,0,1]\n",
    "\n",
    "flowers(flowerbed, n = 1)\n"
   ]
  },
  {
   "cell_type": "markdown",
   "id": "c2034742",
   "metadata": {},
   "source": [
    "**Question 5** Given an integer array nums, find three numbers whose product is maximum and return the maximum product.\n",
    "\n",
    "Example 1: Input: nums = [1,2,3] Output: 6"
   ]
  },
  {
   "cell_type": "code",
   "execution_count": 10,
   "id": "806f547f",
   "metadata": {},
   "outputs": [],
   "source": [
    "def product(A):\n",
    "    A.sort()\n",
    "    return max(A[0]*A[1]*A[-1], A[-1]*A[-2]*A[-3])\n",
    "\n"
   ]
  },
  {
   "cell_type": "code",
   "execution_count": 12,
   "id": "9b68d96f",
   "metadata": {},
   "outputs": [
    {
     "data": {
      "text/plain": [
       "6"
      ]
     },
     "execution_count": 12,
     "metadata": {},
     "output_type": "execute_result"
    }
   ],
   "source": [
    "a = [1,2,3]\n",
    "\n",
    "product(a)"
   ]
  },
  {
   "cell_type": "markdown",
   "id": "dbf18749",
   "metadata": {},
   "source": [
    "**Question 6** Given an array of integers nums which is sorted in ascending order, and an integer target, write a function to search target in nums. If target exists, then return its index. Otherwise, return -1.\n",
    "\n",
    "You must write an algorithm with O(log n) runtime complexity.\n",
    "\n",
    "Input: nums = [-1,0,3,5,9,12], target = 9 Output: 4\n",
    "\n",
    "Explanation: 9 exists in nums and its index is 4"
   ]
  },
  {
   "cell_type": "code",
   "execution_count": 13,
   "id": "75fecadf",
   "metadata": {},
   "outputs": [],
   "source": [
    "def search(num,target):\n",
    "    \n",
    "    n=len(num)\n",
    "    \n",
    "    for i in range(n):\n",
    "        if num[i]==target:\n",
    "            return i\n",
    "\n",
    "    return -1                                    "
   ]
  },
  {
   "cell_type": "code",
   "execution_count": 14,
   "id": "3bcac5b6",
   "metadata": {},
   "outputs": [
    {
     "data": {
      "text/plain": [
       "4"
      ]
     },
     "execution_count": 14,
     "metadata": {},
     "output_type": "execute_result"
    }
   ],
   "source": [
    "arr = [-1,0,3,5,9,12]\n",
    "\n",
    "search(arr, target = 9)"
   ]
  },
  {
   "cell_type": "markdown",
   "id": "c69de35d",
   "metadata": {},
   "source": [
    "**Question 7** An array is monotonic if it is either monotone increasing or monotone decreasing.\n",
    "\n",
    "An array nums is monotone increasing if for all i <= j, nums[i] <= nums[j]. An array nums is monotone decreasing if for all i <= j, nums[i] >= nums[j].\n",
    "\n",
    "Given an integer array nums, return true if the given array is monotonic, or false otherwise.\n",
    "\n",
    "Example 1: Input: nums = [1,2,2,3] Output: true"
   ]
  },
  {
   "cell_type": "code",
   "execution_count": 15,
   "id": "c5137b64",
   "metadata": {},
   "outputs": [],
   "source": [
    "def Monotonic(nums):\n",
    "    inc = True\n",
    "    dec = True\n",
    "    \n",
    "    for i in range(1,len(nums)):\n",
    "        \n",
    "        inc = inc and nums[i-1] >= nums[i]\n",
    "        dec = dec and nums[i-1] <= nums[i]\n",
    "        \n",
    "    return inc or dec\n"
   ]
  },
  {
   "cell_type": "code",
   "execution_count": 16,
   "id": "b49c63e4",
   "metadata": {},
   "outputs": [
    {
     "data": {
      "text/plain": [
       "True"
      ]
     },
     "execution_count": 16,
     "metadata": {},
     "output_type": "execute_result"
    }
   ],
   "source": [
    "arr = [1,2,2,3]\n",
    "\n",
    "Monotonic(arr)"
   ]
  },
  {
   "cell_type": "markdown",
   "id": "f6dc24ca",
   "metadata": {},
   "source": [
    "**Question 8** You are given an integer array nums and an integer k.\n",
    "\n",
    "In one operation, you can choose any index i where 0 <= i < nums.length and change nums[i] to nums[i] + x where x is an integer from the range [-k, k]. You can apply this operation at most once for each index i.\n",
    "\n",
    "The score of nums is the difference between the maximum and minimum elements in nums.\n",
    "\n",
    "Return the minimum score of nums after applying the mentioned operation at most once for each index in it.\n",
    "\n",
    "Example 1: Input: nums = [1], k = 0 Output: 0\n",
    "\n",
    "Explanation: The score is max(nums) - min(nums) = 1 - 1 = 0."
   ]
  },
  {
   "cell_type": "code",
   "execution_count": 17,
   "id": "2ebdace2",
   "metadata": {},
   "outputs": [],
   "source": [
    "def smallest(nums, k):\n",
    "    \n",
    "    if len(nums) == 1:\n",
    "        return 0\n",
    "\n",
    "    if (max(nums) - k) - (min(nums) + k ) <= 0:\n",
    "        return 0\n",
    "    else:\n",
    "        return (max(nums) - k) - (min(nums) + k )"
   ]
  },
  {
   "cell_type": "code",
   "execution_count": 18,
   "id": "bd12095b",
   "metadata": {},
   "outputs": [
    {
     "data": {
      "text/plain": [
       "0"
      ]
     },
     "execution_count": 18,
     "metadata": {},
     "output_type": "execute_result"
    }
   ],
   "source": [
    "nums = [1]\n",
    "\n",
    "smallest(nums, k = 0)\n"
   ]
  },
  {
   "cell_type": "code",
   "execution_count": 21,
   "id": "55f7847e",
   "metadata": {},
   "outputs": [
    {
     "data": {
      "text/plain": [
       "4"
      ]
     },
     "execution_count": 21,
     "metadata": {},
     "output_type": "execute_result"
    }
   ],
   "source": [
    "nums = [0,10]\n",
    "smallest(nums, k= 3)"
   ]
  }
 ],
 "metadata": {
  "kernelspec": {
   "display_name": "Python 3 (ipykernel)",
   "language": "python",
   "name": "python3"
  },
  "language_info": {
   "codemirror_mode": {
    "name": "ipython",
    "version": 3
   },
   "file_extension": ".py",
   "mimetype": "text/x-python",
   "name": "python",
   "nbconvert_exporter": "python",
   "pygments_lexer": "ipython3",
   "version": "3.10.9"
  }
 },
 "nbformat": 4,
 "nbformat_minor": 5
}
