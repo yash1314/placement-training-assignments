{
 "cells": [
  {
   "cell_type": "markdown",
   "id": "7b7e3188",
   "metadata": {},
   "source": [
    "**Q1.** Given an array of integers nums and an integer target, return indices of the two numbers such that they add up to target.\n",
    "\n",
    "You may assume that each input would have exactly one solution, and you may not use the same element twice.\n",
    "\n",
    "You can return the answer in any order.\n",
    "\n",
    "**Example:**\n",
    "Input: nums = [2,7,11,15], target = 9\n",
    "Output0 [0,1]\n",
    "\n",
    "**Explanation:** Because nums[0] + nums[1] == 9, we return [0, 1]"
   ]
  },
  {
   "cell_type": "code",
   "execution_count": 7,
   "id": "a2e2954e",
   "metadata": {},
   "outputs": [],
   "source": [
    "nums = [2,7,11,15]\n",
    "target = 9"
   ]
  },
  {
   "cell_type": "code",
   "execution_count": 8,
   "id": "234b64af",
   "metadata": {},
   "outputs": [],
   "source": [
    "def q1(num, targets):\n",
    "    counter = True\n",
    "    n = 0\n",
    "    m = 1\n",
    "    \n",
    "    for i in range(len(num)):\n",
    "        addition = num[n] + num[m]\n",
    "        \n",
    "        if addition == targets:\n",
    "            return [n,m]\n",
    "            break\n",
    "        \n",
    "        elif addition != targets:\n",
    "            n += 1\n",
    "            m += 1"
   ]
  },
  {
   "cell_type": "code",
   "execution_count": 11,
   "id": "40c93e27",
   "metadata": {},
   "outputs": [
    {
     "data": {
      "text/plain": [
       "[0, 1]"
      ]
     },
     "execution_count": 11,
     "metadata": {},
     "output_type": "execute_result"
    }
   ],
   "source": [
    "q1(nums, target)"
   ]
  },
  {
   "cell_type": "code",
   "execution_count": 10,
   "id": "3db2e81e",
   "metadata": {},
   "outputs": [
    {
     "data": {
      "text/plain": [
       "[1, 2]"
      ]
     },
     "execution_count": 10,
     "metadata": {},
     "output_type": "execute_result"
    }
   ],
   "source": [
    "q1(nums, targets = 18)"
   ]
  },
  {
   "cell_type": "markdown",
   "id": "5603b141",
   "metadata": {},
   "source": [
    "**Q2.** Given an integer array nums and an integer val, remove all occurrences of val in nums in-place. The order of the elements may be changed. Then return the number of elements in nums which are not equal to val.\n",
    "\n",
    "Consider the number of elements in nums which are not equal to val be k, to get accepted, you need to do the following things:\n",
    "\n",
    "- Change the array nums such that the first k elements of nums contain the elements which are not equal to val. The remaining elements of nums are not important as well as the size of nums.\n",
    "- Return k.\n",
    "\n",
    "**Example :**\n",
    "Input: nums = [3,2,2,3], val = 3\n",
    "Output: 2, nums = [2,2,_*,_*]\n",
    "\n",
    "**Explanation:** Your function should return k = 2, with the first two elements of nums being 2. It does not matter what you leave beyond the returned k (hence they are underscores)"
   ]
  },
  {
   "cell_type": "code",
   "execution_count": 27,
   "id": "69cbaadd",
   "metadata": {},
   "outputs": [],
   "source": [
    "nums = [3,2,2,3]\n",
    "val = 3"
   ]
  },
  {
   "cell_type": "code",
   "execution_count": 28,
   "id": "7da31f25",
   "metadata": {},
   "outputs": [],
   "source": [
    "def q2(nums, val):\n",
    "    k = 0 \n",
    "    n = len(nums)  \n",
    "    \n",
    "    for i in range(n):\n",
    "        if nums[i] != val:\n",
    "            nums[k] = nums[i]\n",
    "            print(i, k, nums)\n",
    "            k += 1\n",
    "\n",
    "    for i in range(k, n):\n",
    "        print(i)\n",
    "        nums[i] = '*'  \n",
    "\n",
    "    return f\"final_output is: k = {k} & nums = {nums}\""
   ]
  },
  {
   "cell_type": "code",
   "execution_count": 29,
   "id": "6f897de7",
   "metadata": {},
   "outputs": [
    {
     "name": "stdout",
     "output_type": "stream",
     "text": [
      "1 0 [2, 2, 2, 3]\n",
      "2 1 [2, 2, 2, 3]\n",
      "2\n",
      "3\n"
     ]
    },
    {
     "data": {
      "text/plain": [
       "\"final_output is: k = 2 & nums = [2, 2, '*', '*']\""
      ]
     },
     "execution_count": 29,
     "metadata": {},
     "output_type": "execute_result"
    }
   ],
   "source": [
    "q2(nums, val)"
   ]
  },
  {
   "cell_type": "markdown",
   "id": "ee721cb5",
   "metadata": {},
   "source": [
    "**Q3.** Given a sorted array of distinct integers and a target value, return the index if the target is found. If not, return the index where it would be if it were inserted in order.\n",
    "\n",
    "You must write an algorithm with O(log n) runtime complexity.\n",
    "\n",
    "**Example 1:**\n",
    "Input: nums = [1,3,5,6], target = 5\n",
    "\n",
    "Output: 2"
   ]
  },
  {
   "cell_type": "code",
   "execution_count": 44,
   "id": "b699306b",
   "metadata": {},
   "outputs": [],
   "source": [
    "nums = [1,3,5,6,7,9]\n",
    "target = 8"
   ]
  },
  {
   "cell_type": "code",
   "execution_count": 45,
   "id": "6387cdff",
   "metadata": {},
   "outputs": [],
   "source": [
    "def q3(num, target):\n",
    "    \n",
    "    for i in range(len(num)):\n",
    "        if num[i] == target:\n",
    "            return f\"target_Value {target} is present at index - {i}  \"\n",
    "        else:\n",
    "            if num[i] > target:\n",
    "                return f\"target value {target} is not present, but if it were then it would be at index {i}\""
   ]
  },
  {
   "cell_type": "code",
   "execution_count": 46,
   "id": "7d370f7e",
   "metadata": {},
   "outputs": [
    {
     "data": {
      "text/plain": [
       "'target value 8 is not present, but if it were then it would be at index 5'"
      ]
     },
     "execution_count": 46,
     "metadata": {},
     "output_type": "execute_result"
    }
   ],
   "source": [
    "q3(nums, target)"
   ]
  },
  {
   "cell_type": "markdown",
   "id": "b02cd29e",
   "metadata": {},
   "source": [
    "**Q4.** You are given a large integer represented as an integer array digits, where each digits[i] is the ith digit of the integer. The digits are ordered from most significant to least significant in left-to-right order. The large integer does not contain any leading 0's.\n",
    "\n",
    "Increment the large integer by one and return the resulting array of digits.\n",
    "\n",
    "**Example 1:**\n",
    "Input: digits = [1,2,3]\n",
    "Output: [1,2,4]\n",
    "\n",
    "**Explanation:** The array represents the integer 123.\n",
    "\n",
    "Incrementing by one gives 123 + 1 = 124.\n",
    "Thus, the result should be [1,2,4]."
   ]
  },
  {
   "cell_type": "code",
   "execution_count": 1,
   "id": "93f87780",
   "metadata": {},
   "outputs": [],
   "source": [
    "array = [1,2,3]"
   ]
  },
  {
   "cell_type": "code",
   "execution_count": 2,
   "id": "a9dcba88",
   "metadata": {},
   "outputs": [],
   "source": [
    "def q4(array):\n",
    "\n",
    "    for i in range(len(array) - 1, -1, -1):\n",
    "        \n",
    "        if array[i] < 9:\n",
    "            array[i] += 1\n",
    "            return array\n",
    "        \n",
    "        else:\n",
    "            array[i] = 0\n",
    "    return array"
   ]
  },
  {
   "cell_type": "code",
   "execution_count": 3,
   "id": "0a8aa9d2",
   "metadata": {},
   "outputs": [
    {
     "data": {
      "text/plain": [
       "[1, 2, 4]"
      ]
     },
     "execution_count": 3,
     "metadata": {},
     "output_type": "execute_result"
    }
   ],
   "source": [
    "q4(array)"
   ]
  },
  {
   "cell_type": "code",
   "execution_count": 5,
   "id": "5e80c629",
   "metadata": {},
   "outputs": [
    {
     "data": {
      "text/plain": [
       "[1, 3, 0]"
      ]
     },
     "execution_count": 5,
     "metadata": {},
     "output_type": "execute_result"
    }
   ],
   "source": [
    "q4([1,2,9])"
   ]
  },
  {
   "cell_type": "markdown",
   "id": "2f2747c1",
   "metadata": {},
   "source": [
    "**Q5.** You are given two integer arrays nums1 and nums2, sorted in non-decreasing order, and two integers m and n, representing the number of elements in nums1 and nums2 respectively.\n",
    "\n",
    "Merge nums1 and nums2 into a single array sorted in non-decreasing order.\n",
    "\n",
    "The final sorted array should not be returned by the function, but instead be stored inside the array nums1. To accommodate this, nums1 has a length of m + n, where the first m elements denote the elements that should be merged, and the last n elements are set to 0 and should be ignored. nums2 has a length of n.\n",
    "\n",
    "**Example 1:**\n",
    "Input: nums1 = [1,2,3,0,0,0], m = 3, nums2 = [2,5,6], n = 3\n",
    "Output: [1,2,2,3,5,6]\n",
    "\n",
    "**Explanation:** The arrays we are merging are [1,2,3] and [2,5,6].\n",
    "The result of the merge is [1,2,2,3,5,6] with the underlined elements coming from nums1."
   ]
  },
  {
   "cell_type": "code",
   "execution_count": 23,
   "id": "edfd4d5e",
   "metadata": {},
   "outputs": [],
   "source": [
    "nums1 = [1, 2, 3, 0, 0, 0]\n",
    "m = 3\n",
    "nums2 = [2, 5, 6]\n",
    "n = 3"
   ]
  },
  {
   "cell_type": "code",
   "execution_count": 24,
   "id": "3d1705c2",
   "metadata": {},
   "outputs": [],
   "source": [
    "def q5(nums1, m, nums2, n):\n",
    "    p1 = m - 1\n",
    "    p2 = n - 1\n",
    "    p = m + n - 1\n",
    "\n",
    "    while p1 >= 0 and p2 >= 0:\n",
    "        if nums1[p1] > nums2[p2]:\n",
    "            nums1[p] = nums1[p1]\n",
    "            p1 -= 1\n",
    "        else:\n",
    "            nums1[p] = nums2[p2]\n",
    "            p2 -= 1\n",
    "        p -= 1\n",
    "\n",
    "    nums1[:p2 + 1] = nums2[:p2 + 1]"
   ]
  },
  {
   "cell_type": "code",
   "execution_count": 25,
   "id": "07281738",
   "metadata": {},
   "outputs": [],
   "source": [
    "q5(nums1,m,nums2, n)"
   ]
  },
  {
   "cell_type": "markdown",
   "id": "3bb24ba9",
   "metadata": {},
   "source": [
    "**Q6.** Given an integer array nums, return true if any value appears at least twice in the array, and return false if every element is distinct.\n",
    "\n",
    "**Example 1:**\n",
    "Input: nums = [1,2,3,1]\n",
    "\n",
    "Output: true"
   ]
  },
  {
   "cell_type": "code",
   "execution_count": 27,
   "id": "6fd08fe7",
   "metadata": {},
   "outputs": [],
   "source": [
    "nums = [1,2,3,1]"
   ]
  },
  {
   "cell_type": "code",
   "execution_count": 28,
   "id": "e74d7d41",
   "metadata": {},
   "outputs": [],
   "source": [
    "def q6(nums):\n",
    "    n = len(nums)\n",
    "    \n",
    "    for i in range(n):\n",
    "        for j in range(i + 1, n):\n",
    "            if nums[i] == nums[j]:\n",
    "                return True\n",
    "    \n",
    "    return False"
   ]
  },
  {
   "cell_type": "code",
   "execution_count": 29,
   "id": "9a69a087",
   "metadata": {},
   "outputs": [
    {
     "data": {
      "text/plain": [
       "True"
      ]
     },
     "execution_count": 29,
     "metadata": {},
     "output_type": "execute_result"
    }
   ],
   "source": [
    "q6(nums)"
   ]
  },
  {
   "cell_type": "markdown",
   "id": "ff3e2d06",
   "metadata": {},
   "source": [
    "**Q7.** Given an integer array nums, move all 0's to the end of it while maintaining the relative order of the nonzero elements.\n",
    "\n",
    "Note that you must do this in-place without making a copy of the array.\n",
    "\n",
    "**Example 1:**\n",
    "Input: nums = [0,1,0,3,12]\n",
    "Output: [1,3,12,0,0]"
   ]
  },
  {
   "cell_type": "code",
   "execution_count": 30,
   "id": "f6757660",
   "metadata": {},
   "outputs": [],
   "source": [
    "nums = [0,1,0,3,12]"
   ]
  },
  {
   "cell_type": "code",
   "execution_count": 31,
   "id": "28a0ad5b",
   "metadata": {},
   "outputs": [],
   "source": [
    "def q7(nums):\n",
    "    n = len(nums)\n",
    "    \n",
    "    left = 0  \n",
    "    \n",
    "    for i in range(n):\n",
    "        if nums[i] != 0:\n",
    "            nums[left] = nums[i]\n",
    "            left += 1\n",
    "\n",
    "    while left < n:\n",
    "        nums[left] = 0\n",
    "        left += 1"
   ]
  },
  {
   "cell_type": "code",
   "execution_count": 33,
   "id": "64a20bcd",
   "metadata": {},
   "outputs": [
    {
     "name": "stdout",
     "output_type": "stream",
     "text": [
      "[1, 3, 12, 0, 0]\n"
     ]
    }
   ],
   "source": [
    "q7(nums)\n",
    "print(nums)"
   ]
  },
  {
   "cell_type": "markdown",
   "id": "98eda074",
   "metadata": {},
   "source": [
    "**Q8.** You have a set of integers s, which originally contains all the numbers from 1 to n. Unfortunately, due to some error, one of the numbers in s got duplicated to another number in the set, which results in repetition of one number and loss of another number.\n",
    "\n",
    "You are given an integer array nums representing the data status of this set after the error.\n",
    "\n",
    "Find the number that occurs twice and the number that is missing and return them in the form of an array.\n",
    "\n",
    "**Example 1:**\n",
    "Input: nums = [1,2,2,4]\n",
    "Output: [2,3]"
   ]
  },
  {
   "cell_type": "code",
   "execution_count": 34,
   "id": "437b10b1",
   "metadata": {},
   "outputs": [],
   "source": [
    " nums = [1,2,2,4]"
   ]
  },
  {
   "cell_type": "code",
   "execution_count": 35,
   "id": "dd94aae2",
   "metadata": {},
   "outputs": [],
   "source": [
    "def q8(nums):\n",
    "    n = len(nums)\n",
    "    num_set = set()\n",
    "    duplicate = -1\n",
    "    total_sum = (n * (n + 1)) // 2\n",
    "    missing = total_sum\n",
    "\n",
    "    for num in nums:\n",
    "        if num in num_set:\n",
    "            duplicate = num\n",
    "        num_set.add(num)\n",
    "        missing -= num\n",
    "\n",
    "    return [duplicate, missing]"
   ]
  },
  {
   "cell_type": "code",
   "execution_count": 36,
   "id": "1618e2f4",
   "metadata": {},
   "outputs": [
    {
     "data": {
      "text/plain": [
       "[2, 1]"
      ]
     },
     "execution_count": 36,
     "metadata": {},
     "output_type": "execute_result"
    }
   ],
   "source": [
    "q8(nums)"
   ]
  }
 ],
 "metadata": {
  "kernelspec": {
   "display_name": "Python 3 (ipykernel)",
   "language": "python",
   "name": "python3"
  },
  "language_info": {
   "codemirror_mode": {
    "name": "ipython",
    "version": 3
   },
   "file_extension": ".py",
   "mimetype": "text/x-python",
   "name": "python",
   "nbconvert_exporter": "python",
   "pygments_lexer": "ipython3",
   "version": "3.10.9"
  }
 },
 "nbformat": 4,
 "nbformat_minor": 5
}
