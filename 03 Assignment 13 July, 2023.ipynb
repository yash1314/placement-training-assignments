{
 "cells": [
  {
   "cell_type": "code",
   "execution_count": 26,
   "id": "22ba3800",
   "metadata": {},
   "outputs": [],
   "source": [
    "# importing important libraries\n",
    "\n",
    "import pandas as pd\n",
    "import numpy as np\n",
    "import statistics as stats\n",
    "import scipy.stats as stat"
   ]
  },
  {
   "cell_type": "markdown",
   "id": "0e08538f",
   "metadata": {},
   "source": [
    "#### 1. Scenario: A company wants to analyze the sales performance of its products in different regions. They have collected the following data:\n",
    "Region A: [10, 15, 12, 8, 14]\n",
    "    \n",
    "Region B: [18, 20, 16, 22, 25]\n",
    "\n",
    "Calculate the mean sales for each region."
   ]
  },
  {
   "cell_type": "code",
   "execution_count": 9,
   "id": "36ad46e9",
   "metadata": {},
   "outputs": [
    {
     "data": {
      "text/html": [
       "<div>\n",
       "<style scoped>\n",
       "    .dataframe tbody tr th:only-of-type {\n",
       "        vertical-align: middle;\n",
       "    }\n",
       "\n",
       "    .dataframe tbody tr th {\n",
       "        vertical-align: top;\n",
       "    }\n",
       "\n",
       "    .dataframe thead th {\n",
       "        text-align: right;\n",
       "    }\n",
       "</style>\n",
       "<table border=\"1\" class=\"dataframe\">\n",
       "  <thead>\n",
       "    <tr style=\"text-align: right;\">\n",
       "      <th></th>\n",
       "      <th>Region_A</th>\n",
       "      <th>Region_B</th>\n",
       "    </tr>\n",
       "  </thead>\n",
       "  <tbody>\n",
       "    <tr>\n",
       "      <th>0</th>\n",
       "      <td>10</td>\n",
       "      <td>18</td>\n",
       "    </tr>\n",
       "    <tr>\n",
       "      <th>1</th>\n",
       "      <td>15</td>\n",
       "      <td>20</td>\n",
       "    </tr>\n",
       "    <tr>\n",
       "      <th>2</th>\n",
       "      <td>12</td>\n",
       "      <td>16</td>\n",
       "    </tr>\n",
       "    <tr>\n",
       "      <th>3</th>\n",
       "      <td>8</td>\n",
       "      <td>22</td>\n",
       "    </tr>\n",
       "    <tr>\n",
       "      <th>4</th>\n",
       "      <td>14</td>\n",
       "      <td>25</td>\n",
       "    </tr>\n",
       "  </tbody>\n",
       "</table>\n",
       "</div>"
      ],
      "text/plain": [
       "   Region_A  Region_B\n",
       "0        10        18\n",
       "1        15        20\n",
       "2        12        16\n",
       "3         8        22\n",
       "4        14        25"
      ]
     },
     "execution_count": 9,
     "metadata": {},
     "output_type": "execute_result"
    }
   ],
   "source": [
    "df1 = pd.DataFrame(data = {'Region_A': [10, 15, 12, 8, 14], 'Region_B': [18, 20, 16, 22, 25] })\n",
    "df1"
   ]
  },
  {
   "cell_type": "code",
   "execution_count": 12,
   "id": "041a79c8",
   "metadata": {},
   "outputs": [
    {
     "data": {
      "text/plain": [
       "(11.8, 20.2)"
      ]
     },
     "execution_count": 12,
     "metadata": {},
     "output_type": "execute_result"
    }
   ],
   "source": [
    "df1.Region_A.mean(), df1.Region_B.mean()"
   ]
  },
  {
   "cell_type": "markdown",
   "id": "77b3aa08",
   "metadata": {},
   "source": [
    "#### 2. Scenario: A survey is conducted to measure customer satisfaction on a scale of 1 to 5. The data collected is as follows:\n",
    "[4, 5, 2, 3, 5, 4, 3, 2, 4, 5]\n",
    "\n",
    "Calculate the mode of the survey responses."
   ]
  },
  {
   "cell_type": "code",
   "execution_count": 17,
   "id": "ffebfb6c",
   "metadata": {},
   "outputs": [
    {
     "data": {
      "text/plain": [
       "4"
      ]
     },
     "execution_count": 17,
     "metadata": {},
     "output_type": "execute_result"
    }
   ],
   "source": [
    "cus_satisfaction = [4, 5, 2, 3, 5, 4, 3, 2, 4, 5]\n",
    "stats.mode(cus_satisfaction)"
   ]
  },
  {
   "cell_type": "markdown",
   "id": "9758fc86",
   "metadata": {},
   "source": [
    "#### 3. Scenario: A company wants to compare the salaries of two departments. The salary data for Department A and Department B are as follows:\n",
    "Department A: [5000, 6000, 5500, 7000]\n",
    "\n",
    "Department B: [4500, 5500, 5800, 6000, 5200]\n",
    "\n",
    "Calculate the median salary for each department.\n"
   ]
  },
  {
   "cell_type": "code",
   "execution_count": 18,
   "id": "4cd158ee",
   "metadata": {},
   "outputs": [],
   "source": [
    "department_A = [5000, 6000, 5500, 7000]\n",
    "\n",
    "department_B = [4500, 5500, 5800, 6000, 5200]"
   ]
  },
  {
   "cell_type": "code",
   "execution_count": 19,
   "id": "52aeb9bd",
   "metadata": {},
   "outputs": [
    {
     "data": {
      "text/plain": [
       "5750.0"
      ]
     },
     "execution_count": 19,
     "metadata": {},
     "output_type": "execute_result"
    }
   ],
   "source": [
    "np.median(department_A)"
   ]
  },
  {
   "cell_type": "code",
   "execution_count": 20,
   "id": "4205128b",
   "metadata": {},
   "outputs": [
    {
     "data": {
      "text/plain": [
       "5500.0"
      ]
     },
     "execution_count": 20,
     "metadata": {},
     "output_type": "execute_result"
    }
   ],
   "source": [
    "np.median(department_B)"
   ]
  },
  {
   "cell_type": "markdown",
   "id": "1a42fb76",
   "metadata": {},
   "source": [
    "#### 4. Scenario: A data analyst wants to determine the variability in the daily stock prices of a company. The data collected is as follows:\n",
    "[25.5, 24.8, 26.1, 25.3, 24.9]\n",
    "\n",
    "Calculate the range of the stock prices.\n"
   ]
  },
  {
   "cell_type": "code",
   "execution_count": 22,
   "id": "e5bb5fe4",
   "metadata": {},
   "outputs": [
    {
     "data": {
      "text/plain": [
       "1.3000000000000007"
      ]
     },
     "execution_count": 22,
     "metadata": {},
     "output_type": "execute_result"
    }
   ],
   "source": [
    "stock_price = [25.5, 24.8, 26.1, 25.3, 24.9]\n",
    "stock_range = max(stock_price) - min(stock_price) \n",
    "stock_range "
   ]
  },
  {
   "cell_type": "markdown",
   "id": "4dfabcce",
   "metadata": {},
   "source": [
    "#### 5. Scenario: A study is conducted to compare the performance of two different teaching methods. The test scores of the students in each group are as follows:\n",
    "Group A: [85, 90, 92, 88, 91]\n",
    "\n",
    "Group B: [82, 88, 90, 86, 87]\n",
    "\n",
    "Perform a t-test to determine if there is a significant difference in the mean scores between the two groups.\n"
   ]
  },
  {
   "cell_type": "code",
   "execution_count": 29,
   "id": "70e0f1b0",
   "metadata": {},
   "outputs": [],
   "source": [
    "group_a = [85, 90, 92, 88, 91]\n",
    "\n",
    "group_b = [82, 88, 90, 86, 87]\n",
    "\n",
    "alpha_value = 0.05"
   ]
  },
  {
   "cell_type": "markdown",
   "id": "3dbe26ab",
   "metadata": {},
   "source": [
    "**Null** : There is no difference between the groups.\n",
    "\n",
    "**Alternative** : There is difference between the gropus."
   ]
  },
  {
   "cell_type": "code",
   "execution_count": 27,
   "id": "3931af75",
   "metadata": {},
   "outputs": [],
   "source": [
    "t_test_value , p_value = stat.ttest_ind(group_a, group_b)"
   ]
  },
  {
   "cell_type": "code",
   "execution_count": 28,
   "id": "cbb86958",
   "metadata": {},
   "outputs": [
    {
     "name": "stdout",
     "output_type": "stream",
     "text": [
      "T-test value:  1.4312528946642733\n",
      "P-value:  0.19023970239078333\n"
     ]
    }
   ],
   "source": [
    "print('T-test value: ', t_test_value)\n",
    "print('P-value: ', p_value)"
   ]
  },
  {
   "cell_type": "code",
   "execution_count": 30,
   "id": "12a60c76",
   "metadata": {},
   "outputs": [
    {
     "name": "stdout",
     "output_type": "stream",
     "text": [
      "We fail to reject the null hypothesis.\n"
     ]
    }
   ],
   "source": [
    "if p_value < alpha_value:\n",
    "    print('we reject the null hypothesis.')\n",
    "    \n",
    "else:\n",
    "    print('We fail to reject the null hypothesis.')"
   ]
  },
  {
   "cell_type": "markdown",
   "id": "cad5191b",
   "metadata": {},
   "source": [
    "**Conclusion** : We observe from above result that we fail to reject the null hypothesis. It means there is some significant difference between the two groups."
   ]
  },
  {
   "cell_type": "markdown",
   "id": "85eb1d70",
   "metadata": {},
   "source": [
    "#### 6. Scenario: A company wants to analyze the relationship between advertising expenditure and sales. The data collected is as follows:\n",
    "Advertising Expenditure (in thousands): [10, 15, 12, 8, 14]\n",
    "\n",
    "Sales (in thousands): [25, 30, 28, 20, 26]\n",
    "\n",
    "Calculate the correlation coefficient between advertising expenditure and sales.\n"
   ]
  },
  {
   "cell_type": "code",
   "execution_count": 32,
   "id": "26ece9c3",
   "metadata": {},
   "outputs": [],
   "source": [
    "df2 = pd.DataFrame(data = {'Advertising_Expenditure': [10, 15, 12, 8, 14], 'Sales': [25, 30, 28, 20, 26]})"
   ]
  },
  {
   "cell_type": "code",
   "execution_count": 33,
   "id": "881708ca",
   "metadata": {},
   "outputs": [
    {
     "data": {
      "text/plain": [
       "0.8757511375750132"
      ]
     },
     "execution_count": 33,
     "metadata": {},
     "output_type": "execute_result"
    }
   ],
   "source": [
    "df2['Advertising_Expenditure'].corr(df2['Sales'])"
   ]
  },
  {
   "cell_type": "markdown",
   "id": "4f4a4e58",
   "metadata": {},
   "source": [
    "**Conclusion**: From above result we can observe that there is a significant positive relationship between adertising expenditure and sales of the company."
   ]
  },
  {
   "cell_type": "markdown",
   "id": "1bc10ffb",
   "metadata": {},
   "source": [
    "#### 7. Scenario: A survey is conducted to measure the heights of a group of people. The data collected is as follows:\n",
    "[160, 170, 165, 155, 175, 180, 170]\n",
    "\n",
    "Calculate the standard deviation of the heights.\n",
    "\n"
   ]
  },
  {
   "cell_type": "code",
   "execution_count": 35,
   "id": "d9e45634",
   "metadata": {},
   "outputs": [
    {
     "data": {
      "text/plain": [
       "7.953949089757174"
      ]
     },
     "execution_count": 35,
     "metadata": {},
     "output_type": "execute_result"
    }
   ],
   "source": [
    "heights = [160, 170, 165, 155, 175, 180, 170]\n",
    "np.std(heights)"
   ]
  },
  {
   "cell_type": "markdown",
   "id": "0e67f0a5",
   "metadata": {},
   "source": [
    "#### 8. Scenario: A company wants to analyze the relationship between employee tenure and job satisfaction. The data collected is as follows:\n",
    "Employee Tenure (in years): [2, 3, 5, 4, 6, 2, 4]\n",
    "\n",
    "Job Satisfaction (on a scale of 1 to 10): [7, 8, 6, 9, 5, 7, 6]\n",
    "\n",
    "Perform a linear regression analysis to predict job satisfaction based on employee tenure.\n"
   ]
  },
  {
   "cell_type": "code",
   "execution_count": 36,
   "id": "52343d23",
   "metadata": {},
   "outputs": [],
   "source": [
    "from sklearn.linear_model import LinearRegression"
   ]
  },
  {
   "cell_type": "code",
   "execution_count": 55,
   "id": "f4c4723a",
   "metadata": {},
   "outputs": [],
   "source": [
    "tenure = [2, 3, 5, 4, 6, 2, 4]\n",
    "\n",
    "job_Satisfaction = [7, 8, 6, 9, 5, 7, 6]"
   ]
  },
  {
   "cell_type": "code",
   "execution_count": 56,
   "id": "aad8fdf3",
   "metadata": {},
   "outputs": [],
   "source": [
    "X = np.array([2, 3, 5, 4, 6, 2, 4]).reshape(-1, 1)\n",
    "y = job_Satisfaction"
   ]
  },
  {
   "cell_type": "code",
   "execution_count": 57,
   "id": "fb65ec59",
   "metadata": {},
   "outputs": [],
   "source": [
    "from sklearn.model_selection import train_test_split\n",
    "\n",
    "X_train, X_test, y_train, y_test = train_test_split(X, y , random_state= 42, test_size= 0.2)"
   ]
  },
  {
   "cell_type": "code",
   "execution_count": 58,
   "id": "b77b3c49",
   "metadata": {},
   "outputs": [],
   "source": [
    "lr = LinearRegression()"
   ]
  },
  {
   "cell_type": "code",
   "execution_count": 59,
   "id": "ae311d16",
   "metadata": {},
   "outputs": [
    {
     "data": {
      "text/html": [
       "<style>#sk-container-id-2 {color: black;background-color: white;}#sk-container-id-2 pre{padding: 0;}#sk-container-id-2 div.sk-toggleable {background-color: white;}#sk-container-id-2 label.sk-toggleable__label {cursor: pointer;display: block;width: 100%;margin-bottom: 0;padding: 0.3em;box-sizing: border-box;text-align: center;}#sk-container-id-2 label.sk-toggleable__label-arrow:before {content: \"▸\";float: left;margin-right: 0.25em;color: #696969;}#sk-container-id-2 label.sk-toggleable__label-arrow:hover:before {color: black;}#sk-container-id-2 div.sk-estimator:hover label.sk-toggleable__label-arrow:before {color: black;}#sk-container-id-2 div.sk-toggleable__content {max-height: 0;max-width: 0;overflow: hidden;text-align: left;background-color: #f0f8ff;}#sk-container-id-2 div.sk-toggleable__content pre {margin: 0.2em;color: black;border-radius: 0.25em;background-color: #f0f8ff;}#sk-container-id-2 input.sk-toggleable__control:checked~div.sk-toggleable__content {max-height: 200px;max-width: 100%;overflow: auto;}#sk-container-id-2 input.sk-toggleable__control:checked~label.sk-toggleable__label-arrow:before {content: \"▾\";}#sk-container-id-2 div.sk-estimator input.sk-toggleable__control:checked~label.sk-toggleable__label {background-color: #d4ebff;}#sk-container-id-2 div.sk-label input.sk-toggleable__control:checked~label.sk-toggleable__label {background-color: #d4ebff;}#sk-container-id-2 input.sk-hidden--visually {border: 0;clip: rect(1px 1px 1px 1px);clip: rect(1px, 1px, 1px, 1px);height: 1px;margin: -1px;overflow: hidden;padding: 0;position: absolute;width: 1px;}#sk-container-id-2 div.sk-estimator {font-family: monospace;background-color: #f0f8ff;border: 1px dotted black;border-radius: 0.25em;box-sizing: border-box;margin-bottom: 0.5em;}#sk-container-id-2 div.sk-estimator:hover {background-color: #d4ebff;}#sk-container-id-2 div.sk-parallel-item::after {content: \"\";width: 100%;border-bottom: 1px solid gray;flex-grow: 1;}#sk-container-id-2 div.sk-label:hover label.sk-toggleable__label {background-color: #d4ebff;}#sk-container-id-2 div.sk-serial::before {content: \"\";position: absolute;border-left: 1px solid gray;box-sizing: border-box;top: 0;bottom: 0;left: 50%;z-index: 0;}#sk-container-id-2 div.sk-serial {display: flex;flex-direction: column;align-items: center;background-color: white;padding-right: 0.2em;padding-left: 0.2em;position: relative;}#sk-container-id-2 div.sk-item {position: relative;z-index: 1;}#sk-container-id-2 div.sk-parallel {display: flex;align-items: stretch;justify-content: center;background-color: white;position: relative;}#sk-container-id-2 div.sk-item::before, #sk-container-id-2 div.sk-parallel-item::before {content: \"\";position: absolute;border-left: 1px solid gray;box-sizing: border-box;top: 0;bottom: 0;left: 50%;z-index: -1;}#sk-container-id-2 div.sk-parallel-item {display: flex;flex-direction: column;z-index: 1;position: relative;background-color: white;}#sk-container-id-2 div.sk-parallel-item:first-child::after {align-self: flex-end;width: 50%;}#sk-container-id-2 div.sk-parallel-item:last-child::after {align-self: flex-start;width: 50%;}#sk-container-id-2 div.sk-parallel-item:only-child::after {width: 0;}#sk-container-id-2 div.sk-dashed-wrapped {border: 1px dashed gray;margin: 0 0.4em 0.5em 0.4em;box-sizing: border-box;padding-bottom: 0.4em;background-color: white;}#sk-container-id-2 div.sk-label label {font-family: monospace;font-weight: bold;display: inline-block;line-height: 1.2em;}#sk-container-id-2 div.sk-label-container {text-align: center;}#sk-container-id-2 div.sk-container {/* jupyter's `normalize.less` sets `[hidden] { display: none; }` but bootstrap.min.css set `[hidden] { display: none !important; }` so we also need the `!important` here to be able to override the default hidden behavior on the sphinx rendered scikit-learn.org. See: https://github.com/scikit-learn/scikit-learn/issues/21755 */display: inline-block !important;position: relative;}#sk-container-id-2 div.sk-text-repr-fallback {display: none;}</style><div id=\"sk-container-id-2\" class=\"sk-top-container\"><div class=\"sk-text-repr-fallback\"><pre>LinearRegression()</pre><b>In a Jupyter environment, please rerun this cell to show the HTML representation or trust the notebook. <br />On GitHub, the HTML representation is unable to render, please try loading this page with nbviewer.org.</b></div><div class=\"sk-container\" hidden><div class=\"sk-item\"><div class=\"sk-estimator sk-toggleable\"><input class=\"sk-toggleable__control sk-hidden--visually\" id=\"sk-estimator-id-2\" type=\"checkbox\" checked><label for=\"sk-estimator-id-2\" class=\"sk-toggleable__label sk-toggleable__label-arrow\">LinearRegression</label><div class=\"sk-toggleable__content\"><pre>LinearRegression()</pre></div></div></div></div></div>"
      ],
      "text/plain": [
       "LinearRegression()"
      ]
     },
     "execution_count": 59,
     "metadata": {},
     "output_type": "execute_result"
    }
   ],
   "source": [
    "lr.fit(X_train, y_train)"
   ]
  },
  {
   "cell_type": "code",
   "execution_count": 60,
   "id": "56975c00",
   "metadata": {},
   "outputs": [],
   "source": [
    "y_pred = lr.predict(X_test)"
   ]
  },
  {
   "cell_type": "code",
   "execution_count": 61,
   "id": "20655057",
   "metadata": {},
   "outputs": [
    {
     "data": {
      "text/plain": [
       "(array([-0.52272727]), 8.795454545454545)"
      ]
     },
     "execution_count": 61,
     "metadata": {},
     "output_type": "execute_result"
    }
   ],
   "source": [
    "lr.coef_, lr.intercept_"
   ]
  },
  {
   "cell_type": "markdown",
   "id": "8d1e2e9d",
   "metadata": {},
   "source": [
    "#### 9. Scenario: A study is conducted to compare the effectiveness of two different medications. The recovery times of the patients in each group are as follows:\n",
    "Medication A: [10, 12, 14, 11, 13]\n",
    "\n",
    "Medication B: [15, 17, 16, 14, 18]\n",
    "\n",
    "Perform an analysis of variance (ANOVA) to determine if there is a significant difference in the mean recovery times between the two medications.\n"
   ]
  },
  {
   "cell_type": "code",
   "execution_count": 65,
   "id": "ea35fb4e",
   "metadata": {},
   "outputs": [],
   "source": [
    "medication_a = [10, 12, 14, 11, 13]\n",
    "\n",
    "medication_b = [15, 17, 16, 14, 18]"
   ]
  },
  {
   "cell_type": "code",
   "execution_count": 63,
   "id": "7629505a",
   "metadata": {},
   "outputs": [],
   "source": [
    "f_test_value, p_value = stat.f_oneway(medication_a, medication_b)"
   ]
  },
  {
   "cell_type": "code",
   "execution_count": 64,
   "id": "30867935",
   "metadata": {},
   "outputs": [
    {
     "name": "stdout",
     "output_type": "stream",
     "text": [
      "f-test value:  16.0\n",
      "P-value:  0.003949772803445326\n"
     ]
    }
   ],
   "source": [
    "print('f-test value: ', f_test_value)\n",
    "print('P-value: ', p_value)"
   ]
  },
  {
   "cell_type": "code",
   "execution_count": 66,
   "id": "b9db500e",
   "metadata": {},
   "outputs": [
    {
     "name": "stdout",
     "output_type": "stream",
     "text": [
      "We reject the null hypothesis\n"
     ]
    }
   ],
   "source": [
    "if p_value < alpha_value:\n",
    "    print('We reject the null hypothesis')\n",
    "else:\n",
    "    print('We fail to reject the null hypothesis')"
   ]
  },
  {
   "cell_type": "markdown",
   "id": "68c22b17",
   "metadata": {},
   "source": [
    "**Conclusion**: From above results we can conclude that there is a difference in recovery times in these two medications."
   ]
  },
  {
   "cell_type": "markdown",
   "id": "078670a3",
   "metadata": {},
   "source": [
    "#### 10. Scenario: A company wants to analyze customer feedback ratings on a scale of 1 to 10. The data collected is as follows:\n",
    "[8, 9, 7, 6, 8, 10, 9, 8, 7, 8]\n",
    "\n",
    "Calculate the 75th percentile of the feedback ratings.\n"
   ]
  },
  {
   "cell_type": "code",
   "execution_count": 71,
   "id": "a146d418",
   "metadata": {},
   "outputs": [
    {
     "data": {
      "text/plain": [
       "8.75"
      ]
     },
     "execution_count": 71,
     "metadata": {},
     "output_type": "execute_result"
    }
   ],
   "source": [
    "cus_feedback = np.array([8, 9, 7, 6, 8, 10, 9, 8, 7, 8])\n",
    "np.percentile(cus_feedback, 75)"
   ]
  },
  {
   "cell_type": "markdown",
   "id": "0d8b8656",
   "metadata": {},
   "source": [
    "#### 11. Scenario: A quality control department wants to test the weight consistency of a product. The weights of a sample of products are as follows:\n",
    "[10.2, 9.8, 10.0, 10.5, 10.3, 10.1]\n",
    "\n",
    "Perform a hypothesis test to determine if the mean weight differs significantly from 10 grams."
   ]
  },
  {
   "cell_type": "code",
   "execution_count": 73,
   "id": "28a7ba5d",
   "metadata": {},
   "outputs": [],
   "source": [
    "weights = [10.2, 9.8, 10.0, 10.5, 10.3, 10.1]"
   ]
  },
  {
   "cell_type": "code",
   "execution_count": 74,
   "id": "6ffc835b",
   "metadata": {},
   "outputs": [],
   "source": [
    "t_test_stats, p_value = stat.ttest_1samp(weights, 10)"
   ]
  },
  {
   "cell_type": "code",
   "execution_count": 76,
   "id": "e61f78bc",
   "metadata": {},
   "outputs": [
    {
     "name": "stdout",
     "output_type": "stream",
     "text": [
      "T-test-value: 1.5126584522688367\n",
      "p_value: 0.19077595151110102\n"
     ]
    }
   ],
   "source": [
    "print('T-test-value:', t_test_stats)\n",
    "print('p_value:', p_value)"
   ]
  },
  {
   "cell_type": "code",
   "execution_count": 77,
   "id": "7cdb6c88",
   "metadata": {},
   "outputs": [
    {
     "name": "stdout",
     "output_type": "stream",
     "text": [
      "We fail to reject the null hypothesis\n"
     ]
    }
   ],
   "source": [
    "if p_value < alpha_value:\n",
    "    print('We reject the null hypothesis')\n",
    "else:\n",
    "    print('We fail to reject the null hypothesis')"
   ]
  },
  {
   "cell_type": "markdown",
   "id": "1464c788",
   "metadata": {},
   "source": [
    "**Conclusion**: We conclude that there is no significant difference based on above results."
   ]
  },
  {
   "cell_type": "markdown",
   "id": "297802d7",
   "metadata": {},
   "source": [
    "#### 12. Scenario: A company wants to analyze the click-through rates of two different website designs. The number of clicks for each design is as follows:\n",
    "Design A: [100, 120, 110, 90, 95]\n",
    "\n",
    "Design B: [80, 85, 90, 95, 100]\n",
    "\n",
    "Perform a chi-square test to determine if there is a significant difference in the click-through rates between the two designs.\n",
    "\n"
   ]
  },
  {
   "cell_type": "code",
   "execution_count": 78,
   "id": "699ff6d6",
   "metadata": {},
   "outputs": [],
   "source": [
    "design_a = [100, 120, 110, 90, 95]\n",
    "\n",
    "design_b = [80, 85, 90, 95, 100]"
   ]
  },
  {
   "cell_type": "code",
   "execution_count": 79,
   "id": "3b64b429",
   "metadata": {},
   "outputs": [],
   "source": [
    "observed_data = np.array([design_a, design_b])"
   ]
  },
  {
   "cell_type": "code",
   "execution_count": 83,
   "id": "b68110a7",
   "metadata": {},
   "outputs": [],
   "source": [
    "chi_test = stat.chi2_contingency(observed_data)"
   ]
  },
  {
   "cell_type": "code",
   "execution_count": 84,
   "id": "20525959",
   "metadata": {},
   "outputs": [
    {
     "name": "stdout",
     "output_type": "stream",
     "text": [
      "We fail to reject the null hypothesis\n"
     ]
    }
   ],
   "source": [
    "if chi_test.pvalue < alpha_value:\n",
    "    print('We reject the null hypothesis')\n",
    "    \n",
    "else:\n",
    "    print(\"We fail to reject the null hypothesis\")"
   ]
  },
  {
   "cell_type": "markdown",
   "id": "216a755d",
   "metadata": {},
   "source": [
    "**Conclusion**: We conclude that there is a difference between the two groups."
   ]
  },
  {
   "cell_type": "markdown",
   "id": "28bface6",
   "metadata": {},
   "source": [
    "#### 13. Scenario: A survey is conducted to measure customer satisfaction with a product on a scale of 1 to 10. The data collected is as follows:\n",
    "[7, 9, 6, 8, 10, 7, 8, 9, 7, 8]\n",
    "\n",
    "Calculate the 95% confidence interval for the population mean satisfaction score.\n",
    "\n"
   ]
  },
  {
   "cell_type": "code",
   "execution_count": 87,
   "id": "44aef843",
   "metadata": {},
   "outputs": [],
   "source": [
    "data = [7, 9, 6, 8, 10, 7, 8, 9, 7, 8]"
   ]
  },
  {
   "cell_type": "code",
   "execution_count": 92,
   "id": "23b863ee",
   "metadata": {},
   "outputs": [
    {
     "data": {
      "text/plain": [
       "(7.9, 1.1357816691600546)"
      ]
     },
     "execution_count": 92,
     "metadata": {},
     "output_type": "execute_result"
    }
   ],
   "source": [
    "# mean, standard_deviation calculation\n",
    "\n",
    "data_mean = np.mean(data)\n",
    "data_std = np.std(data)\n",
    "data_mean, data_std"
   ]
  },
  {
   "cell_type": "code",
   "execution_count": 95,
   "id": "c1f4c2a7",
   "metadata": {},
   "outputs": [
    {
     "data": {
      "text/plain": [
       "0.3591656999213594"
      ]
     },
     "execution_count": 95,
     "metadata": {},
     "output_type": "execute_result"
    }
   ],
   "source": [
    "# calcuating standard error\n",
    "\n",
    "std_error = data_std/np.sqrt(len(data))\n",
    "std_error"
   ]
  },
  {
   "cell_type": "code",
   "execution_count": 98,
   "id": "f1c1c972",
   "metadata": {},
   "outputs": [],
   "source": [
    "# calcuating test stat value\n",
    "\n",
    "df = len(data) - 1\n",
    "alpha_value = 1 - 0.95\n",
    "\n",
    "# based on above values and using t-test tabel we obtain t-critical value to be\n",
    "t_test_critical = 2.262"
   ]
  },
  {
   "cell_type": "code",
   "execution_count": 101,
   "id": "25f2bc5b",
   "metadata": {},
   "outputs": [
    {
     "data": {
      "text/plain": [
       "0.8124328132221149"
      ]
     },
     "execution_count": 101,
     "metadata": {},
     "output_type": "execute_result"
    }
   ],
   "source": [
    "# calcuating margin of error\n",
    "\n",
    "margin_of_error = t_test_critical * std_error\n",
    "margin_of_error"
   ]
  },
  {
   "cell_type": "code",
   "execution_count": 102,
   "id": "ebc6c53e",
   "metadata": {},
   "outputs": [],
   "source": [
    "confidence_interval = (data_mean - margin_of_error, data_mean + margin_of_error)"
   ]
  },
  {
   "cell_type": "code",
   "execution_count": 103,
   "id": "23cc619e",
   "metadata": {},
   "outputs": [
    {
     "data": {
      "text/plain": [
       "(7.0875671867778856, 8.712432813222115)"
      ]
     },
     "execution_count": 103,
     "metadata": {},
     "output_type": "execute_result"
    }
   ],
   "source": [
    "confidence_interval"
   ]
  },
  {
   "cell_type": "markdown",
   "id": "0c781236",
   "metadata": {},
   "source": [
    "**Conclusion**: 95% confidence_interval comes out to be (7.0875671867778856, 8.712432813222115)"
   ]
  },
  {
   "cell_type": "markdown",
   "id": "a450b4c2",
   "metadata": {},
   "source": [
    "#### 14. Scenario: A company wants to analyze the effect of temperature on product performance. The data collected is as follows:\n",
    "Temperature (in degrees Celsius): [20, 22, 23, 19, 21]\n",
    "\n",
    "Performance (on a scale of 1 to 10): [8, 7, 9, 6, 8]\n",
    "\n",
    "Perform a simple linear regression to predict performance based on temperature.\n"
   ]
  },
  {
   "cell_type": "code",
   "execution_count": 105,
   "id": "3f9f1645",
   "metadata": {},
   "outputs": [],
   "source": [
    "temperature = np.array([20, 22, 23, 19, 21])\n",
    "\n",
    "performance = np.array([8, 7, 9, 6, 8])"
   ]
  },
  {
   "cell_type": "code",
   "execution_count": 108,
   "id": "de630a0b",
   "metadata": {},
   "outputs": [],
   "source": [
    "X = temperature.reshape(-1,1)\n",
    "y = performance"
   ]
  },
  {
   "cell_type": "code",
   "execution_count": 109,
   "id": "710b2d56",
   "metadata": {},
   "outputs": [],
   "source": [
    "X_train, X_test, y_train, y_test = train_test_split(X,y, random_state= 42, test_size= 0.2)"
   ]
  },
  {
   "cell_type": "code",
   "execution_count": 110,
   "id": "41ee08a0",
   "metadata": {},
   "outputs": [],
   "source": [
    "lr2 = LinearRegression()"
   ]
  },
  {
   "cell_type": "code",
   "execution_count": 112,
   "id": "c10f094d",
   "metadata": {},
   "outputs": [
    {
     "data": {
      "text/html": [
       "<style>#sk-container-id-3 {color: black;background-color: white;}#sk-container-id-3 pre{padding: 0;}#sk-container-id-3 div.sk-toggleable {background-color: white;}#sk-container-id-3 label.sk-toggleable__label {cursor: pointer;display: block;width: 100%;margin-bottom: 0;padding: 0.3em;box-sizing: border-box;text-align: center;}#sk-container-id-3 label.sk-toggleable__label-arrow:before {content: \"▸\";float: left;margin-right: 0.25em;color: #696969;}#sk-container-id-3 label.sk-toggleable__label-arrow:hover:before {color: black;}#sk-container-id-3 div.sk-estimator:hover label.sk-toggleable__label-arrow:before {color: black;}#sk-container-id-3 div.sk-toggleable__content {max-height: 0;max-width: 0;overflow: hidden;text-align: left;background-color: #f0f8ff;}#sk-container-id-3 div.sk-toggleable__content pre {margin: 0.2em;color: black;border-radius: 0.25em;background-color: #f0f8ff;}#sk-container-id-3 input.sk-toggleable__control:checked~div.sk-toggleable__content {max-height: 200px;max-width: 100%;overflow: auto;}#sk-container-id-3 input.sk-toggleable__control:checked~label.sk-toggleable__label-arrow:before {content: \"▾\";}#sk-container-id-3 div.sk-estimator input.sk-toggleable__control:checked~label.sk-toggleable__label {background-color: #d4ebff;}#sk-container-id-3 div.sk-label input.sk-toggleable__control:checked~label.sk-toggleable__label {background-color: #d4ebff;}#sk-container-id-3 input.sk-hidden--visually {border: 0;clip: rect(1px 1px 1px 1px);clip: rect(1px, 1px, 1px, 1px);height: 1px;margin: -1px;overflow: hidden;padding: 0;position: absolute;width: 1px;}#sk-container-id-3 div.sk-estimator {font-family: monospace;background-color: #f0f8ff;border: 1px dotted black;border-radius: 0.25em;box-sizing: border-box;margin-bottom: 0.5em;}#sk-container-id-3 div.sk-estimator:hover {background-color: #d4ebff;}#sk-container-id-3 div.sk-parallel-item::after {content: \"\";width: 100%;border-bottom: 1px solid gray;flex-grow: 1;}#sk-container-id-3 div.sk-label:hover label.sk-toggleable__label {background-color: #d4ebff;}#sk-container-id-3 div.sk-serial::before {content: \"\";position: absolute;border-left: 1px solid gray;box-sizing: border-box;top: 0;bottom: 0;left: 50%;z-index: 0;}#sk-container-id-3 div.sk-serial {display: flex;flex-direction: column;align-items: center;background-color: white;padding-right: 0.2em;padding-left: 0.2em;position: relative;}#sk-container-id-3 div.sk-item {position: relative;z-index: 1;}#sk-container-id-3 div.sk-parallel {display: flex;align-items: stretch;justify-content: center;background-color: white;position: relative;}#sk-container-id-3 div.sk-item::before, #sk-container-id-3 div.sk-parallel-item::before {content: \"\";position: absolute;border-left: 1px solid gray;box-sizing: border-box;top: 0;bottom: 0;left: 50%;z-index: -1;}#sk-container-id-3 div.sk-parallel-item {display: flex;flex-direction: column;z-index: 1;position: relative;background-color: white;}#sk-container-id-3 div.sk-parallel-item:first-child::after {align-self: flex-end;width: 50%;}#sk-container-id-3 div.sk-parallel-item:last-child::after {align-self: flex-start;width: 50%;}#sk-container-id-3 div.sk-parallel-item:only-child::after {width: 0;}#sk-container-id-3 div.sk-dashed-wrapped {border: 1px dashed gray;margin: 0 0.4em 0.5em 0.4em;box-sizing: border-box;padding-bottom: 0.4em;background-color: white;}#sk-container-id-3 div.sk-label label {font-family: monospace;font-weight: bold;display: inline-block;line-height: 1.2em;}#sk-container-id-3 div.sk-label-container {text-align: center;}#sk-container-id-3 div.sk-container {/* jupyter's `normalize.less` sets `[hidden] { display: none; }` but bootstrap.min.css set `[hidden] { display: none !important; }` so we also need the `!important` here to be able to override the default hidden behavior on the sphinx rendered scikit-learn.org. See: https://github.com/scikit-learn/scikit-learn/issues/21755 */display: inline-block !important;position: relative;}#sk-container-id-3 div.sk-text-repr-fallback {display: none;}</style><div id=\"sk-container-id-3\" class=\"sk-top-container\"><div class=\"sk-text-repr-fallback\"><pre>LinearRegression()</pre><b>In a Jupyter environment, please rerun this cell to show the HTML representation or trust the notebook. <br />On GitHub, the HTML representation is unable to render, please try loading this page with nbviewer.org.</b></div><div class=\"sk-container\" hidden><div class=\"sk-item\"><div class=\"sk-estimator sk-toggleable\"><input class=\"sk-toggleable__control sk-hidden--visually\" id=\"sk-estimator-id-3\" type=\"checkbox\" checked><label for=\"sk-estimator-id-3\" class=\"sk-toggleable__label sk-toggleable__label-arrow\">LinearRegression</label><div class=\"sk-toggleable__content\"><pre>LinearRegression()</pre></div></div></div></div></div>"
      ],
      "text/plain": [
       "LinearRegression()"
      ]
     },
     "execution_count": 112,
     "metadata": {},
     "output_type": "execute_result"
    }
   ],
   "source": [
    "lr2.fit(X_train,y_train)"
   ]
  },
  {
   "cell_type": "code",
   "execution_count": 113,
   "id": "5d29d4ed",
   "metadata": {},
   "outputs": [],
   "source": [
    "y_pred = lr2.predict(X_test)"
   ]
  },
  {
   "cell_type": "code",
   "execution_count": 116,
   "id": "d037c145",
   "metadata": {},
   "outputs": [
    {
     "data": {
      "text/plain": [
       "array([8.57142857])"
      ]
     },
     "execution_count": 116,
     "metadata": {},
     "output_type": "execute_result"
    }
   ],
   "source": [
    "y_pred"
   ]
  },
  {
   "cell_type": "code",
   "execution_count": 117,
   "id": "488cdfce",
   "metadata": {},
   "outputs": [
    {
     "data": {
      "text/plain": [
       "(array([0.65714286]), -5.885714285714283)"
      ]
     },
     "execution_count": 117,
     "metadata": {},
     "output_type": "execute_result"
    }
   ],
   "source": [
    "lr2.coef_, lr2.intercept_"
   ]
  },
  {
   "cell_type": "markdown",
   "id": "d63c3145",
   "metadata": {},
   "source": [
    "#### 15. Scenario: A study is conducted to compare the preferences of two groups of participants. The preferences are measured on a Likert scale from 1 to 5. The data collected is as follows:\n",
    "Group A: [4, 3, 5, 2, 4]\n",
    "\n",
    "Group B: [3, 2, 4, 3, 3]\n",
    "\n",
    "Perform a Mann-Whitney U test to determine if there is a significant difference in the median preferences between the two groups.\n",
    "\n"
   ]
  },
  {
   "cell_type": "code",
   "execution_count": 119,
   "id": "c19855a5",
   "metadata": {},
   "outputs": [],
   "source": [
    "grp_a = [4, 3, 5, 2, 4]\n",
    "grp_b = [3, 2, 4, 3, 3]"
   ]
  },
  {
   "cell_type": "code",
   "execution_count": 121,
   "id": "d05d26bf",
   "metadata": {},
   "outputs": [
    {
     "name": "stdout",
     "output_type": "stream",
     "text": [
      "Mann-Whitney U statistic: 17.0\n",
      "p-value: 0.380836480306712\n"
     ]
    }
   ],
   "source": [
    "statistic, p_value = stat.mannwhitneyu(preferences_a, preferences_b)\n",
    "\n",
    "print(\"Mann-Whitney U statistic:\", statistic)\n",
    "print(\"p-value:\", p_value)"
   ]
  },
  {
   "cell_type": "code",
   "execution_count": 122,
   "id": "4dc51938",
   "metadata": {},
   "outputs": [
    {
     "name": "stdout",
     "output_type": "stream",
     "text": [
      "We fail to reject the null hypothesis\n"
     ]
    }
   ],
   "source": [
    "if p_value < 0.05:\n",
    "    print('We reject the null hypothesis')\n",
    "    \n",
    "else:\n",
    "    print('We fail to reject the null hypothesis')"
   ]
  },
  {
   "cell_type": "markdown",
   "id": "3c7a0d67",
   "metadata": {},
   "source": [
    "#### 16. Scenario: A company wants to analyze the distribution of customer ages. The data collected is as follows:\n",
    "[25, 30, 35, 40, 45, 50, 55, 60, 65, 70]\n",
    "\n",
    "Calculate the interquartile range (IQR) of the ages."
   ]
  },
  {
   "cell_type": "code",
   "execution_count": 125,
   "id": "aa26a25b",
   "metadata": {},
   "outputs": [],
   "source": [
    "cus_ages = [25, 30, 35, 40, 45, 50, 55, 60, 65, 70]"
   ]
  },
  {
   "cell_type": "code",
   "execution_count": 126,
   "id": "0ac2e496",
   "metadata": {},
   "outputs": [
    {
     "name": "stdout",
     "output_type": "stream",
     "text": [
      "20.0\n"
     ]
    }
   ],
   "source": [
    "IQR = stat.iqr(cus_ages, interpolation = 'midpoint')  \n",
    "print(IQR)"
   ]
  },
  {
   "cell_type": "markdown",
   "id": "9a6a72bc",
   "metadata": {},
   "source": [
    "#### 17. Scenario: A study is conducted to compare the performance of three different machine learning algorithms. The accuracy scores for each algorithm are as follows:\n",
    "Algorithm A: [0.85, 0.80, 0.82, 0.87, 0.83]\n",
    "\n",
    "Algorithm B: [0.78, 0.82, 0.84, 0.80, 0.79]\n",
    "\n",
    "Algorithm C: [0.90, 0.88, 0.89, 0.86, 0.87]\n",
    "\n",
    "Perform a Kruskal-Wallis test to determine if there is a significant difference in the median accuracy scores between the algorithms.\n"
   ]
  },
  {
   "cell_type": "code",
   "execution_count": 136,
   "id": "c32d1ad2",
   "metadata": {},
   "outputs": [],
   "source": [
    "scores_a = [0.85, 0.80, 0.82, 0.87, 0.83]\n",
    "scores_b = [0.78, 0.82, 0.84, 0.80, 0.79]\n",
    "scores_c = [0.90, 0.88, 0.89, 0.86, 0.87]"
   ]
  },
  {
   "cell_type": "code",
   "execution_count": 138,
   "id": "4477007c",
   "metadata": {},
   "outputs": [
    {
     "name": "stdout",
     "output_type": "stream",
     "text": [
      "Kruskal-Wallis statistic: 9.696947935368053\n",
      "p-value: 0.007840333026249539\n"
     ]
    }
   ],
   "source": [
    "statistic, p_value = stat.kruskal(scores_a, scores_b, scores_c)\n",
    "\n",
    "print(\"Kruskal-Wallis statistic:\", statistic)\n",
    "print(\"p-value:\", p_value)"
   ]
  },
  {
   "cell_type": "code",
   "execution_count": 139,
   "id": "3bda0e8a",
   "metadata": {},
   "outputs": [
    {
     "name": "stdout",
     "output_type": "stream",
     "text": [
      "We reject the null hypothesis.\n"
     ]
    }
   ],
   "source": [
    "if p_value < 0.05:\n",
    "    print('We reject the null hypothesis.')\n",
    "    \n",
    "else:\n",
    "    print('We fail to reject the null hypothesis')"
   ]
  },
  {
   "cell_type": "markdown",
   "id": "f17c4dec",
   "metadata": {},
   "source": [
    "#### 18. Scenario: A company wants to analyze the effect of price on sales. The data collected is as follows:\n",
    "Price (in dollars): [10, 15, 12, 8, 14]\n",
    "\n",
    "Sales: [100, 80, 90, 110, 95]\n",
    "\n",
    "Perform a simple linear regression to predict sales based on price.\n"
   ]
  },
  {
   "cell_type": "code",
   "execution_count": 127,
   "id": "5ce03716",
   "metadata": {},
   "outputs": [],
   "source": [
    "price = np.array([10, 15, 12, 8, 14]).reshape(-1, 1)\n",
    "sales = np.array([100, 80, 90, 110, 95])"
   ]
  },
  {
   "cell_type": "code",
   "execution_count": 128,
   "id": "39554503",
   "metadata": {},
   "outputs": [],
   "source": [
    "X = price\n",
    "y = sales"
   ]
  },
  {
   "cell_type": "code",
   "execution_count": 129,
   "id": "b5e0c298",
   "metadata": {},
   "outputs": [],
   "source": [
    "X_train, X_test, y_train, y_test = train_test_split(X,y, random_state= 42, test_size= 0.2)"
   ]
  },
  {
   "cell_type": "code",
   "execution_count": 130,
   "id": "cd9dffb9",
   "metadata": {},
   "outputs": [],
   "source": [
    "lr3 = LinearRegression()"
   ]
  },
  {
   "cell_type": "code",
   "execution_count": 132,
   "id": "5f01c0b9",
   "metadata": {},
   "outputs": [
    {
     "data": {
      "text/html": [
       "<style>#sk-container-id-4 {color: black;background-color: white;}#sk-container-id-4 pre{padding: 0;}#sk-container-id-4 div.sk-toggleable {background-color: white;}#sk-container-id-4 label.sk-toggleable__label {cursor: pointer;display: block;width: 100%;margin-bottom: 0;padding: 0.3em;box-sizing: border-box;text-align: center;}#sk-container-id-4 label.sk-toggleable__label-arrow:before {content: \"▸\";float: left;margin-right: 0.25em;color: #696969;}#sk-container-id-4 label.sk-toggleable__label-arrow:hover:before {color: black;}#sk-container-id-4 div.sk-estimator:hover label.sk-toggleable__label-arrow:before {color: black;}#sk-container-id-4 div.sk-toggleable__content {max-height: 0;max-width: 0;overflow: hidden;text-align: left;background-color: #f0f8ff;}#sk-container-id-4 div.sk-toggleable__content pre {margin: 0.2em;color: black;border-radius: 0.25em;background-color: #f0f8ff;}#sk-container-id-4 input.sk-toggleable__control:checked~div.sk-toggleable__content {max-height: 200px;max-width: 100%;overflow: auto;}#sk-container-id-4 input.sk-toggleable__control:checked~label.sk-toggleable__label-arrow:before {content: \"▾\";}#sk-container-id-4 div.sk-estimator input.sk-toggleable__control:checked~label.sk-toggleable__label {background-color: #d4ebff;}#sk-container-id-4 div.sk-label input.sk-toggleable__control:checked~label.sk-toggleable__label {background-color: #d4ebff;}#sk-container-id-4 input.sk-hidden--visually {border: 0;clip: rect(1px 1px 1px 1px);clip: rect(1px, 1px, 1px, 1px);height: 1px;margin: -1px;overflow: hidden;padding: 0;position: absolute;width: 1px;}#sk-container-id-4 div.sk-estimator {font-family: monospace;background-color: #f0f8ff;border: 1px dotted black;border-radius: 0.25em;box-sizing: border-box;margin-bottom: 0.5em;}#sk-container-id-4 div.sk-estimator:hover {background-color: #d4ebff;}#sk-container-id-4 div.sk-parallel-item::after {content: \"\";width: 100%;border-bottom: 1px solid gray;flex-grow: 1;}#sk-container-id-4 div.sk-label:hover label.sk-toggleable__label {background-color: #d4ebff;}#sk-container-id-4 div.sk-serial::before {content: \"\";position: absolute;border-left: 1px solid gray;box-sizing: border-box;top: 0;bottom: 0;left: 50%;z-index: 0;}#sk-container-id-4 div.sk-serial {display: flex;flex-direction: column;align-items: center;background-color: white;padding-right: 0.2em;padding-left: 0.2em;position: relative;}#sk-container-id-4 div.sk-item {position: relative;z-index: 1;}#sk-container-id-4 div.sk-parallel {display: flex;align-items: stretch;justify-content: center;background-color: white;position: relative;}#sk-container-id-4 div.sk-item::before, #sk-container-id-4 div.sk-parallel-item::before {content: \"\";position: absolute;border-left: 1px solid gray;box-sizing: border-box;top: 0;bottom: 0;left: 50%;z-index: -1;}#sk-container-id-4 div.sk-parallel-item {display: flex;flex-direction: column;z-index: 1;position: relative;background-color: white;}#sk-container-id-4 div.sk-parallel-item:first-child::after {align-self: flex-end;width: 50%;}#sk-container-id-4 div.sk-parallel-item:last-child::after {align-self: flex-start;width: 50%;}#sk-container-id-4 div.sk-parallel-item:only-child::after {width: 0;}#sk-container-id-4 div.sk-dashed-wrapped {border: 1px dashed gray;margin: 0 0.4em 0.5em 0.4em;box-sizing: border-box;padding-bottom: 0.4em;background-color: white;}#sk-container-id-4 div.sk-label label {font-family: monospace;font-weight: bold;display: inline-block;line-height: 1.2em;}#sk-container-id-4 div.sk-label-container {text-align: center;}#sk-container-id-4 div.sk-container {/* jupyter's `normalize.less` sets `[hidden] { display: none; }` but bootstrap.min.css set `[hidden] { display: none !important; }` so we also need the `!important` here to be able to override the default hidden behavior on the sphinx rendered scikit-learn.org. See: https://github.com/scikit-learn/scikit-learn/issues/21755 */display: inline-block !important;position: relative;}#sk-container-id-4 div.sk-text-repr-fallback {display: none;}</style><div id=\"sk-container-id-4\" class=\"sk-top-container\"><div class=\"sk-text-repr-fallback\"><pre>LinearRegression()</pre><b>In a Jupyter environment, please rerun this cell to show the HTML representation or trust the notebook. <br />On GitHub, the HTML representation is unable to render, please try loading this page with nbviewer.org.</b></div><div class=\"sk-container\" hidden><div class=\"sk-item\"><div class=\"sk-estimator sk-toggleable\"><input class=\"sk-toggleable__control sk-hidden--visually\" id=\"sk-estimator-id-4\" type=\"checkbox\" checked><label for=\"sk-estimator-id-4\" class=\"sk-toggleable__label sk-toggleable__label-arrow\">LinearRegression</label><div class=\"sk-toggleable__content\"><pre>LinearRegression()</pre></div></div></div></div></div>"
      ],
      "text/plain": [
       "LinearRegression()"
      ]
     },
     "execution_count": 132,
     "metadata": {},
     "output_type": "execute_result"
    }
   ],
   "source": [
    "lr3.fit(X_train, y_train)"
   ]
  },
  {
   "cell_type": "code",
   "execution_count": 134,
   "id": "363964df",
   "metadata": {},
   "outputs": [
    {
     "data": {
      "text/plain": [
       "array([87.75])"
      ]
     },
     "execution_count": 134,
     "metadata": {},
     "output_type": "execute_result"
    }
   ],
   "source": [
    "y_predict = lr3.predict(X_test)\n",
    "y_predict"
   ]
  },
  {
   "cell_type": "code",
   "execution_count": 135,
   "id": "544b210b",
   "metadata": {},
   "outputs": [
    {
     "data": {
      "text/plain": [
       "(129.0, array([-2.75]))"
      ]
     },
     "execution_count": 135,
     "metadata": {},
     "output_type": "execute_result"
    }
   ],
   "source": [
    "lr3.intercept_, lr3.coef_"
   ]
  },
  {
   "cell_type": "markdown",
   "id": "4151e0b7",
   "metadata": {},
   "source": [
    "#### 19. Scenario: A survey is conducted to measure the satisfaction levels of customers with a new product. The data collected is as follows:\n",
    "[7, 8, 9, 6, 8, 7, 9, 7, 8, 7]\n",
    "\n",
    "Calculate the standard error of the mean satisfaction score.\n"
   ]
  },
  {
   "cell_type": "code",
   "execution_count": 140,
   "id": "762a749b",
   "metadata": {},
   "outputs": [],
   "source": [
    "data1 = [7, 8, 9, 6, 8, 7, 9, 7, 8, 7]"
   ]
  },
  {
   "cell_type": "code",
   "execution_count": 141,
   "id": "785b463b",
   "metadata": {},
   "outputs": [],
   "source": [
    "std_error = np.std(data1)/np.sqrt(len(data1))"
   ]
  },
  {
   "cell_type": "code",
   "execution_count": 142,
   "id": "b841d05d",
   "metadata": {},
   "outputs": [
    {
     "data": {
      "text/plain": [
       "0.28982753492378877"
      ]
     },
     "execution_count": 142,
     "metadata": {},
     "output_type": "execute_result"
    }
   ],
   "source": [
    "std_error"
   ]
  },
  {
   "cell_type": "markdown",
   "id": "031bf2ca",
   "metadata": {},
   "source": [
    "#### 20. Scenario: A company wants to analyze the relationship between advertising expenditure and sales. The data collected is as follows:\n",
    "Advertising Expenditure (in thousands): [10, 15, 12, 8, 14]\n",
    "\n",
    "Sales (in thousands): [25, 30, 28, 20, 26]\n",
    "\n",
    "Perform a multiple regression analysis to predict sales based on advertising expenditure.\n",
    "\n"
   ]
  },
  {
   "cell_type": "code",
   "execution_count": 143,
   "id": "c71b5bb4",
   "metadata": {},
   "outputs": [],
   "source": [
    "import statsmodels.api as sm\n",
    "\n",
    "expenditure = np.array([10, 15, 12, 8, 14])\n",
    "\n",
    "sales = np.array([25, 30, 28, 20, 26])"
   ]
  },
  {
   "cell_type": "code",
   "execution_count": 144,
   "id": "44f282fd",
   "metadata": {},
   "outputs": [],
   "source": [
    "expenditure_with_intercept = sm.add_constant(expenditure)"
   ]
  },
  {
   "cell_type": "code",
   "execution_count": 145,
   "id": "64f6cb1a",
   "metadata": {},
   "outputs": [],
   "source": [
    "model = sm.OLS(sales, expenditure_with_intercept)\n",
    "\n",
    "results = model.fit()"
   ]
  },
  {
   "cell_type": "code",
   "execution_count": 146,
   "id": "d16ae0df",
   "metadata": {},
   "outputs": [
    {
     "name": "stdout",
     "output_type": "stream",
     "text": [
      "                            OLS Regression Results                            \n",
      "==============================================================================\n",
      "Dep. Variable:                      y   R-squared:                       0.767\n",
      "Model:                            OLS   Adj. R-squared:                  0.689\n",
      "Method:                 Least Squares   F-statistic:                     9.872\n",
      "Date:                Thu, 13 Jul 2023   Prob (F-statistic):             0.0516\n",
      "Time:                        17:00:07   Log-Likelihood:                -9.5288\n",
      "No. Observations:                   5   AIC:                             23.06\n",
      "Df Residuals:                       3   BIC:                             22.28\n",
      "Df Model:                           1                                         \n",
      "Covariance Type:            nonrobust                                         \n",
      "==============================================================================\n",
      "                 coef    std err          t      P>|t|      [0.025      0.975]\n",
      "------------------------------------------------------------------------------\n",
      "const         12.2012      4.429      2.755      0.070      -1.893      26.296\n",
      "x1             1.1524      0.367      3.142      0.052      -0.015       2.320\n",
      "==============================================================================\n",
      "Omnibus:                          nan   Durbin-Watson:                   1.136\n",
      "Prob(Omnibus):                    nan   Jarque-Bera (JB):                0.546\n",
      "Skew:                          -0.267   Prob(JB):                        0.761\n",
      "Kurtosis:                       1.471   Cond. No.                         57.3\n",
      "==============================================================================\n",
      "\n",
      "Notes:\n",
      "[1] Standard Errors assume that the covariance matrix of the errors is correctly specified.\n"
     ]
    },
    {
     "name": "stderr",
     "output_type": "stream",
     "text": [
      "C:\\Users\\nancy\\anaconda3\\lib\\site-packages\\statsmodels\\stats\\stattools.py:74: ValueWarning: omni_normtest is not valid with less than 8 observations; 5 samples were given.\n",
      "  warn(\"omni_normtest is not valid with less than 8 observations; %i \"\n"
     ]
    }
   ],
   "source": [
    "print(results.summary())"
   ]
  }
 ],
 "metadata": {
  "kernelspec": {
   "display_name": "Python 3 (ipykernel)",
   "language": "python",
   "name": "python3"
  },
  "language_info": {
   "codemirror_mode": {
    "name": "ipython",
    "version": 3
   },
   "file_extension": ".py",
   "mimetype": "text/x-python",
   "name": "python",
   "nbconvert_exporter": "python",
   "pygments_lexer": "ipython3",
   "version": "3.10.9"
  }
 },
 "nbformat": 4,
 "nbformat_minor": 5
}
