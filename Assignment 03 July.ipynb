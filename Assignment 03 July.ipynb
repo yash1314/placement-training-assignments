{
 "cells": [
  {
   "cell_type": "markdown",
   "id": "30b6ed62",
   "metadata": {},
   "source": [
    "**Question 1**\n",
    "\n",
    "Given two strings s and t, *determine if they are isomorphic*.\n",
    "\n",
    "Two strings s and t are isomorphic if the characters in s can be replaced to get t.\n",
    "\n",
    "All occurrences of a character must be replaced with another character while preserving the order of characters. No two characters may map to the same character, but a character may map to itself.\n",
    "\n",
    "**Example 1:**\n",
    "\n",
    "Input: s = \"egg\", t = \"add\"\n",
    "\n",
    "Output: true"
   ]
  },
  {
   "cell_type": "code",
   "execution_count": 4,
   "id": "fe306759",
   "metadata": {},
   "outputs": [],
   "source": [
    "def isIsomorphic(s, t):\n",
    "        if len(s)!=len(t) or len(set(s))!=len(set(t)):\n",
    "            return False\n",
    "        d = {}\n",
    "        \n",
    "        for i in range(len(s)):\n",
    "            if s[i] not in d:\n",
    "                d[s[i]]=t[i]\n",
    "            \n",
    "            if d[s[i]]!=t[i]:\n",
    "                return False\n",
    "        return True"
   ]
  },
  {
   "cell_type": "code",
   "execution_count": 5,
   "id": "ff131b28",
   "metadata": {},
   "outputs": [
    {
     "data": {
      "text/plain": [
       "True"
      ]
     },
     "execution_count": 5,
     "metadata": {},
     "output_type": "execute_result"
    }
   ],
   "source": [
    "isIsomorphic(s = \"egg\", t = \"add\")"
   ]
  },
  {
   "cell_type": "markdown",
   "id": "187b3d8e",
   "metadata": {},
   "source": [
    "**Question 2**\n",
    "\n",
    "Given a string num which represents an integer, return true *if* num *is a **strobogrammatic number***.\n",
    "\n",
    "A **strobogrammatic number** is a number that looks the same when rotated 180 degrees (looked at upside down).\n",
    "\n",
    "**Example 1:**\n",
    "\n",
    "Input: num = \"69\"\n",
    "\n",
    "Output: true"
   ]
  },
  {
   "cell_type": "code",
   "execution_count": 10,
   "id": "450b19ac",
   "metadata": {},
   "outputs": [],
   "source": [
    "def isStrobogrammatic(num):\n",
    "      \n",
    "    maps = {(\"0\", \"0\"), (\"1\", \"1\"), (\"6\", \"9\"), (\"8\", \"8\"), (\"9\", \"6\")}\n",
    "    i,j = 0, len(num) - 1\n",
    "    while i <= j:\n",
    "        if (num[i], num[j]) not in maps:\n",
    "            return False\n",
    "        i += 1\n",
    "        j -= 1\n",
    "    return True"
   ]
  },
  {
   "cell_type": "code",
   "execution_count": 11,
   "id": "150bc55e",
   "metadata": {},
   "outputs": [
    {
     "data": {
      "text/plain": [
       "True"
      ]
     },
     "execution_count": 11,
     "metadata": {},
     "output_type": "execute_result"
    }
   ],
   "source": [
    "isStrobogrammatic(num = \"69\")"
   ]
  },
  {
   "cell_type": "markdown",
   "id": "83bf7b07",
   "metadata": {},
   "source": [
    "**Question 3**\n",
    "\n",
    "Given two non-negative integers, num1 and num2 represented as string, return *the sum of* num1 *and* num2 *as a string*.\n",
    "\n",
    "You must solve the problem without using any built-in library for handling large integers (such as BigInteger). You must also not convert the inputs to integers directly.\n",
    "\n",
    "**Example 1:**\n",
    "\n",
    "Input: num1 = \"11\", num2 = \"123\"\n",
    "\n",
    "Output: \"134\""
   ]
  },
  {
   "cell_type": "code",
   "execution_count": 15,
   "id": "0d4471de",
   "metadata": {},
   "outputs": [],
   "source": [
    "def addStrings(num1, num2):\n",
    "    def func(n):\n",
    "        value = {'0':0, '1':1, '2':2, '3':3, '4':4, '5':5, '6':6, '7':7, '8':8, '9':9}\n",
    "        result = 0\n",
    "        for digit in n:\n",
    "            result = 10 * result + value[digit]\n",
    "\n",
    "        return result\n",
    "\n",
    "    ans = func(num1) + func(num2)\n",
    "    return str(ans)"
   ]
  },
  {
   "cell_type": "code",
   "execution_count": 16,
   "id": "6f1d8e82",
   "metadata": {},
   "outputs": [
    {
     "data": {
      "text/plain": [
       "'134'"
      ]
     },
     "execution_count": 16,
     "metadata": {},
     "output_type": "execute_result"
    }
   ],
   "source": [
    "addStrings(num1 = \"11\", num2 = \"123\")"
   ]
  },
  {
   "cell_type": "markdown",
   "id": "8a05f045",
   "metadata": {},
   "source": [
    "**Question 4**\n",
    "\n",
    "Given a string s, reverse the order of characters in each word within a sentence while still preserving whitespace and initial word order.\n",
    "\n",
    "**Example 1:**\n",
    "\n",
    "Input: s = \"Let's take LeetCode contest\"\n",
    "\n",
    "Output: \"s'teL ekat edoCteeL tsetnoc\""
   ]
  },
  {
   "cell_type": "code",
   "execution_count": 24,
   "id": "49df635f",
   "metadata": {},
   "outputs": [],
   "source": [
    "def reverseWords(s):\n",
    "    arr = s.split(' ')\n",
    "    for i in range(len(arr)):\n",
    "        arr[i] = arr[i][::-1]\n",
    "\n",
    "    return \" \".join(arr)"
   ]
  },
  {
   "cell_type": "code",
   "execution_count": 25,
   "id": "8aac286e",
   "metadata": {},
   "outputs": [
    {
     "data": {
      "text/plain": [
       "\"s'teL ekat edoCteeL tsetnoc\""
      ]
     },
     "execution_count": 25,
     "metadata": {},
     "output_type": "execute_result"
    }
   ],
   "source": [
    "reverseWords(s = \"Let's take LeetCode contest\")"
   ]
  },
  {
   "cell_type": "markdown",
   "id": "36b933a7",
   "metadata": {},
   "source": [
    "**Question 5**\n",
    "\n",
    "Given a string s and an integer k, reverse the first k characters for every 2k characters counting from the start of the string.\n",
    "\n",
    "If there are fewer than k characters left, reverse all of them. If there are less than 2k but greater than or equal to k characters, then reverse the first k characters and leave the other as original.\n",
    "\n",
    "**Example 1:**\n",
    "\n",
    "Input: s = \"abcdefg\", k = 2\n",
    "\n",
    "Output: \"bacdfeg\"\n"
   ]
  },
  {
   "cell_type": "code",
   "execution_count": 27,
   "id": "bc4ecd1a",
   "metadata": {},
   "outputs": [],
   "source": [
    "def reverseStr(s, k):\n",
    "    i = 0\n",
    "    while i < len(s):\n",
    "        s = s[:i]+s[i:i+k][::-1]+s[i+k:]\n",
    "        i = i + 2 * k\n",
    "    return s"
   ]
  },
  {
   "cell_type": "code",
   "execution_count": 28,
   "id": "c791761f",
   "metadata": {},
   "outputs": [
    {
     "data": {
      "text/plain": [
       "'bacdfeg'"
      ]
     },
     "execution_count": 28,
     "metadata": {},
     "output_type": "execute_result"
    }
   ],
   "source": [
    "reverseStr(s = \"abcdefg\", k = 2)"
   ]
  },
  {
   "cell_type": "markdown",
   "id": "ac68b6e2",
   "metadata": {},
   "source": [
    "**Question 6**\n",
    "\n",
    "Given two strings s and goal, return true *if and only if* s *can become* goal *after some number of **shifts** on* s.\n",
    "\n",
    "A **shift** on s consists of moving the leftmost character of s to the rightmost position.\n",
    "\n",
    "- For example, if s = \"abcde\", then it will be \"bcdea\" after one shift.\n",
    "\n",
    "**Example 1:**\n",
    "\n",
    "Input: s = \"abcde\", goal = \"cdeab\"\n",
    "\n",
    "Output: true"
   ]
  },
  {
   "cell_type": "code",
   "execution_count": 31,
   "id": "01090281",
   "metadata": {},
   "outputs": [],
   "source": [
    "def rotateString(s, goal):\n",
    "    for i in range(len(s)):\n",
    "        if s[i] == goal[0]:\n",
    "            if s[i:] + s[:i] == goal:\n",
    "                return True\n",
    "\n",
    "    return False"
   ]
  },
  {
   "cell_type": "code",
   "execution_count": 32,
   "id": "9d207e7c",
   "metadata": {},
   "outputs": [
    {
     "data": {
      "text/plain": [
       "True"
      ]
     },
     "execution_count": 32,
     "metadata": {},
     "output_type": "execute_result"
    }
   ],
   "source": [
    "rotateString(s = \"abcde\", goal = \"cdeab\")"
   ]
  },
  {
   "cell_type": "markdown",
   "id": "599013c1",
   "metadata": {},
   "source": [
    "**Question 7**\n",
    "\n",
    "Given two strings s and t, return true *if they are equal when both are typed into empty text editors*. '#' means a backspace character.\n",
    "\n",
    "Note that after backspacing an empty text, the text will continue empty.\n",
    "\n",
    "**Example 1:**\n",
    "\n",
    "Input: s = \"ab#c\", t = \"ad#c\"\n",
    "\n",
    "Output: true\n",
    "\n",
    "Explanation: Both s and t become \"ac\"."
   ]
  },
  {
   "cell_type": "code",
   "execution_count": 35,
   "id": "4fa789c7",
   "metadata": {},
   "outputs": [],
   "source": [
    "def backspaceCompare(s, t):\n",
    "    s_removed = \"\"\n",
    "    t_removed = \"\"\n",
    "\n",
    "    for char in s:\n",
    "        if char == \"#\":\n",
    "            s_removed = s_removed[:-1]\n",
    "        else:\n",
    "            s_removed += char\n",
    "\n",
    "    for char in t:\n",
    "        if char == \"#\":\n",
    "            t_removed = t_removed[:-1]\n",
    "        else:\n",
    "            t_removed += char\n",
    "\n",
    "    return s_removed == t_removed"
   ]
  },
  {
   "cell_type": "code",
   "execution_count": 36,
   "id": "e4b5de2b",
   "metadata": {},
   "outputs": [
    {
     "data": {
      "text/plain": [
       "True"
      ]
     },
     "execution_count": 36,
     "metadata": {},
     "output_type": "execute_result"
    }
   ],
   "source": [
    "backspaceCompare(s = \"ab#c\", t = \"ad#c\")"
   ]
  },
  {
   "cell_type": "markdown",
   "id": "56cca6fc",
   "metadata": {},
   "source": [
    "**Question 8**\n",
    "\n",
    "You are given an array coordinates, coordinates[i] = [x, y], where [x, y] represents the coordinate of a point. Check if these points make a straight line in the XY plane.\n",
    "\n",
    "**Example 1:**\n",
    "\n",
    "Input: coordinates = [[1,2],[2,3],[3,4],[4,5],[5,6],[6,7]]\n",
    "\n",
    "Output: true"
   ]
  },
  {
   "cell_type": "code",
   "execution_count": 39,
   "id": "c1d3917b",
   "metadata": {},
   "outputs": [],
   "source": [
    "def checkStraightLine(coordinates):\n",
    "    x1, y1 = coordinates[0][0], coordinates[0][1]\n",
    "    x2,y2 = coordinates[1][0], coordinates[1][1]\n",
    "    \n",
    "    for x3,y3 in coordinates[2:]:\n",
    "        if (y3-y2)*(x2-x1)!=(x3-x2)*(y2-y1):\n",
    "            return False\n",
    "    else:\n",
    "        return True"
   ]
  },
  {
   "cell_type": "code",
   "execution_count": 40,
   "id": "ff56b550",
   "metadata": {},
   "outputs": [
    {
     "data": {
      "text/plain": [
       "True"
      ]
     },
     "execution_count": 40,
     "metadata": {},
     "output_type": "execute_result"
    }
   ],
   "source": [
    "checkStraightLine(coordinates = [[1,2],[2,3],[3,4],[4,5],[5,6],[6,7]])"
   ]
  }
 ],
 "metadata": {
  "kernelspec": {
   "display_name": "Python 3 (ipykernel)",
   "language": "python",
   "name": "python3"
  },
  "language_info": {
   "codemirror_mode": {
    "name": "ipython",
    "version": 3
   },
   "file_extension": ".py",
   "mimetype": "text/x-python",
   "name": "python",
   "nbconvert_exporter": "python",
   "pygments_lexer": "ipython3",
   "version": "3.10.9"
  }
 },
 "nbformat": 4,
 "nbformat_minor": 5
}
