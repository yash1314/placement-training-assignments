{
 "cells": [
  {
   "cell_type": "markdown",
   "id": "a3e71ae6-24fd-4565-8b0e-25afc743f5a7",
   "metadata": {},
   "source": [
    "**Question 1**\n",
    "\n",
    "A permutation perm of n + 1 integers of all the integers in the range [0, n] can be represented as a string s of length n where:\n",
    "\n",
    "- s[i] == 'I' if perm[i] < perm[i + 1], and\n",
    "- s[i] == 'D' if perm[i] > perm[i + 1].\n",
    "\n",
    "Given a string s, reconstruct the permutation perm and return it. If there are multiple valid permutations perm, return any of them.\n",
    "\n",
    "**Example 1:**\n",
    "\n",
    "Input: s = \"IDID\"\n",
    "\n",
    "Output:\n",
    "\n",
    "[0,4,1,3,2]\n",
    "\n",
    "\n"
   ]
  },
  {
   "cell_type": "code",
   "execution_count": 1,
   "id": "807ef194-8c1d-4739-8eef-eb7716ca7a7a",
   "metadata": {},
   "outputs": [],
   "source": [
    "def string(s):    \n",
    "    i,n = 0, len(s)\n",
    "    ans = []\n",
    "\n",
    "    for c in s:\n",
    "        if c == 'I': \n",
    "            ans.append(i)\n",
    "            i+=1\n",
    "        else:\n",
    "            ans.append(n)\n",
    "            n-=1\n",
    "    ans.append(i)\n",
    "    return(ans)"
   ]
  },
  {
   "cell_type": "code",
   "execution_count": 2,
   "id": "fca59cf1-9449-4da7-9665-f42e1a11725d",
   "metadata": {},
   "outputs": [
    {
     "data": {
      "text/plain": [
       "[0, 4, 1, 3, 2]"
      ]
     },
     "execution_count": 2,
     "metadata": {},
     "output_type": "execute_result"
    }
   ],
   "source": [
    "s = \"IDID\"\n",
    "string(s)"
   ]
  },
  {
   "cell_type": "markdown",
   "id": "4779b507-bd17-4b24-9cbf-0d01dc369cda",
   "metadata": {},
   "source": [
    "**Question 2**\n",
    "\n",
    "You are given an m x n integer matrix matrix with the following two properties:\n",
    "\n",
    "- Each row is sorted in non-decreasing order.\n",
    "- The first integer of each row is greater than the last integer of the previous row.\n",
    "\n",
    "Given an integer target, return true *if* target *is in* matrix or false otherwise.\n",
    "\n",
    "You must write a solution in O(log(m * n)) time complexity.\n",
    "\n",
    "**Example 1:**\n",
    "\n",
    "\n",
    "\n",
    "\n",
    "\n",
    "Input: matrix = [[1,3,5,7],[10,11,16,20],[23,30,34,60]], target = 3\n",
    "\n",
    "Output: true"
   ]
  },
  {
   "cell_type": "code",
   "execution_count": 3,
   "id": "0c69c91a-d78f-4edf-9db5-15a4f722bc1c",
   "metadata": {},
   "outputs": [],
   "source": [
    "def search(matrix, target):\n",
    "    \n",
    "        for i in range(len(matrix)):\n",
    "            low=0\n",
    "            high=len(matrix[i])-1\n",
    "            \n",
    "            while low<=high:\n",
    "                mid=low+(high-low)//2\n",
    "                if matrix[i][mid]==target:\n",
    "                    return True\n",
    "                elif matrix[i][mid]<target:\n",
    "                    low=mid+1\n",
    "                else:\n",
    "                    high=mid-1\n",
    "                    \n",
    "        return False"
   ]
  },
  {
   "cell_type": "code",
   "execution_count": 4,
   "id": "75b1499b-94f0-4e92-8e0c-fd55b2f37726",
   "metadata": {},
   "outputs": [
    {
     "data": {
      "text/plain": [
       "True"
      ]
     },
     "execution_count": 4,
     "metadata": {},
     "output_type": "execute_result"
    }
   ],
   "source": [
    "matrix = [[1,3,5,7],[10,11,16,20],[23,30,34,60]]\n",
    "target = 3\n",
    "\n",
    "search(matrix, target)"
   ]
  },
  {
   "cell_type": "markdown",
   "id": "e88a0ade-dbb7-4c80-bd5d-fbbf284fa486",
   "metadata": {},
   "source": [
    "**Question 3**\n",
    "\n",
    "Given an array of integers arr, return *true if and only if it is a valid mountain array*.\n",
    "\n",
    "Recall that arr is a mountain array if and only if:\n",
    "\n",
    "- arr.length >= 3\n",
    "- There exists some i with 0 < i < arr.length - 1 such that:\n",
    "    - arr[0] < arr[1] < ... < arr[i - 1] < arr[i]\n",
    "    - arr[i] > arr[i + 1] > ... > arr[arr.length - 1]\n",
    "\n",
    "\n",
    "**Example 1:**\n",
    "\n",
    "Input: arr = [2,1]\n",
    "\n",
    "Output: false"
   ]
  },
  {
   "cell_type": "code",
   "execution_count": 7,
   "id": "425b637a-ebc9-4008-b283-1bb71daafb56",
   "metadata": {},
   "outputs": [],
   "source": [
    "def valid(arr):\n",
    "    \n",
    "    strictly_increasing = strictly_decreasing = False\n",
    "\n",
    "    for i in range(1, len(arr)):\n",
    "        if arr[i] > arr[i - 1]:\n",
    "            if strictly_decreasing:\n",
    "                return False\n",
    "            strictly_increasing = True\n",
    "        elif arr[i] < arr[i - 1]:\n",
    "            if not strictly_increasing:\n",
    "                return False\n",
    "            strictly_decreasing = True\n",
    "        else:\n",
    "            return False\n",
    "\n",
    "    return True if strictly_increasing and strictly_decreasing else False"
   ]
  },
  {
   "cell_type": "code",
   "execution_count": 8,
   "id": "4224a977-9b38-4f17-916b-a91cfe1992ad",
   "metadata": {},
   "outputs": [
    {
     "data": {
      "text/plain": [
       "False"
      ]
     },
     "execution_count": 8,
     "metadata": {},
     "output_type": "execute_result"
    }
   ],
   "source": [
    "arr = [2,1]\n",
    "\n",
    "valid(arr)"
   ]
  },
  {
   "cell_type": "markdown",
   "id": "4747d275-92bb-4e14-8f39-651f8ee0f531",
   "metadata": {},
   "source": [
    "**Question 4**\n",
    "\n",
    "Given a binary array nums, return *the maximum length of a contiguous subarray with an equal number of 0 and 1.\n",
    "\n",
    "**Example 1:**\n",
    "\n",
    "Input: nums = [0,1]\n",
    "\n",
    "Output: 2\n",
    "\n",
    "Explanation:\n",
    "\n",
    "[0, 1] is the longest contiguous subarray with an equal number of 0 and 1."
   ]
  },
  {
   "cell_type": "code",
   "execution_count": 9,
   "id": "fcafd520-81ca-4e00-819d-ebe2d944c297",
   "metadata": {},
   "outputs": [],
   "source": [
    "def find(nums):\n",
    "    \n",
    "    count = {0: -1}  \n",
    "    max_len = count_diff = 0\n",
    "\n",
    "    for i, num in enumerate(nums):\n",
    "        count_diff += 1 if num == 1 else -1  # increment count of 1 or 0\n",
    "        if count_diff in count:\n",
    "            max_len = max(max_len, i - count[count_diff])\n",
    "        else:\n",
    "            count[count_diff] = i\n",
    "\n",
    "    return max_len"
   ]
  },
  {
   "cell_type": "code",
   "execution_count": 10,
   "id": "3163d046-19e2-4bd0-b34e-2e0382c095b5",
   "metadata": {},
   "outputs": [
    {
     "data": {
      "text/plain": [
       "2"
      ]
     },
     "execution_count": 10,
     "metadata": {},
     "output_type": "execute_result"
    }
   ],
   "source": [
    "nums = [0,1]\n",
    "\n",
    "find(nums)"
   ]
  },
  {
   "cell_type": "markdown",
   "id": "0ee4ed58-7cb9-40c5-ad23-97d378c22951",
   "metadata": {},
   "source": [
    "**Question 5**\n",
    "\n",
    "The **product sum** of two equal-length arrays a and b is equal to the sum of a[i] * b[i] for all 0 <= i < a.length (**0-indexed**).\n",
    "\n",
    "- For example, if a = [1,2,3,4] and b = [5,2,3,1], the **product sum** would be 1*5 + 2*2 + 3*3 + 4*1 = 22.\n",
    "\n",
    "Given two arrays nums1 and nums2 of length n, return *the **minimum product sum** if you are allowed to **rearrange** the **order** of the elements in* nums1.\n",
    "\n",
    "**Example 1:**\n",
    "\n",
    "Input: nums1 = [5,3,4,2], nums2 = [4,2,2,5]\n",
    "\n",
    "Output: 40\n",
    "\n",
    "Explanation:\n",
    "\n",
    "We can rearrange nums1 to become [3,5,4,2]. The product sum of [3,5,4,2] and [4,2,2,5] is 3*4 + 5*2 + 4*2 + 2*5 = 40."
   ]
  },
  {
   "cell_type": "code",
   "execution_count": 12,
   "id": "4fbea1a8-4d60-4781-ba51-d151956abfb9",
   "metadata": {},
   "outputs": [],
   "source": [
    "def minP(nums1, nums2):\n",
    "\n",
    "    nums1.sort()\n",
    "    nums2.sort()\n",
    "    n, res = len(nums1), 0\n",
    "    for i in range(n):\n",
    "        res += nums1[i] * nums2[n - i - 1]\n",
    "    return res"
   ]
  },
  {
   "cell_type": "code",
   "execution_count": 13,
   "id": "cb535467-a56c-47dc-b77a-83eaa2f9adcb",
   "metadata": {},
   "outputs": [
    {
     "data": {
      "text/plain": [
       "40"
      ]
     },
     "execution_count": 13,
     "metadata": {},
     "output_type": "execute_result"
    }
   ],
   "source": [
    "nums1 = [5,3,4,2]\n",
    "nums2 = [4,2,2,5]\n",
    "\n",
    "minP(nums1, nums2)"
   ]
  },
  {
   "cell_type": "markdown",
   "id": "3f820dba-efe6-4f56-b797-931d9c4cca49",
   "metadata": {},
   "source": [
    "**Question 6**\n",
    "\n",
    "An integer array original is transformed into a **doubled** array changed by appending **twice the value** of every element in original, and then randomly **shuffling** the resulting array.\n",
    "\n",
    "Given an array changed, return original *if* changed *is a **doubled** array. If* changed *is not a **doubled** array, return an empty array. The elements in* original *may be returned in **any** order*.\n",
    "\n",
    "**Example 1:**\n",
    "\n",
    "Input: changed = [1,3,4,2,6,8]\n",
    "\n",
    "Output: [1,3,4]\n",
    "\n",
    "Explanation: One possible original array could be [1,3,4]:\n",
    "\n",
    "- Twice the value of 1 is 1 * 2 = 2.\n",
    "- Twice the value of 3 is 3 * 2 = 6.\n",
    "- Twice the value of 4 is 4 * 2 = 8.\n",
    "\n",
    "Other original arrays could be [4,3,1] or [3,1,4]."
   ]
  },
  {
   "cell_type": "code",
   "execution_count": 14,
   "id": "d7e4b6c5-00a7-4f50-a088-2c2dd0ba5c48",
   "metadata": {},
   "outputs": [],
   "source": [
    "from collections import Counter\n",
    "\n",
    "def array(changed):\n",
    "\n",
    "    if len(changed)%2!=0:return []\n",
    "    changed.sort()\n",
    "    c=Counter(changed)\n",
    "    ans=[]\n",
    "    if c[0]%2==0:\n",
    "        ans+=[0]*(c[0]//2)\n",
    "\n",
    "    for i in c:\n",
    "        if i==0 or c[i]==0:\n",
    "            continue\n",
    "        elif (i*2 not in c) or c[i]>c[i*2]:\n",
    "            return []\n",
    "        c[i*2]-=c[i]\n",
    "        ans+=[i]*c[i]\n",
    "\n",
    "    return ans"
   ]
  },
  {
   "cell_type": "code",
   "execution_count": 15,
   "id": "56a0b130-2bfd-4354-92f0-8f93ded8fcf8",
   "metadata": {},
   "outputs": [
    {
     "data": {
      "text/plain": [
       "[1, 3, 4]"
      ]
     },
     "execution_count": 15,
     "metadata": {},
     "output_type": "execute_result"
    }
   ],
   "source": [
    "changed = [1,3,4,2,6,8]\n",
    "\n",
    "array(changed)"
   ]
  },
  {
   "cell_type": "markdown",
   "id": "e445754a-984d-4095-858c-17c996ec74e2",
   "metadata": {},
   "source": [
    "**Question 7**\n",
    "\n",
    "Given a positive integer n, generate an n x n matrix filled with elements from 1 to n2 in spiral order.\n",
    "\n",
    "**Example 1:**\n",
    "\n",
    "\n",
    "Input: n = 3\n",
    "\n",
    "Output: [[1,2,3],[8,9,4],[7,6,5]]"
   ]
  },
  {
   "cell_type": "code",
   "execution_count": 16,
   "id": "867d1ca6-ad26-4210-bad1-89b5dd7acdb1",
   "metadata": {},
   "outputs": [],
   "source": [
    "def generateMtr(n):\n",
    "    \n",
    "    ans = [[0 for _ in range(n)] for _ in range(n)]\n",
    "    i, r, c = 1, 0, 0\n",
    "\n",
    "    while i <= n**2:\n",
    "        while r < n and ans[c][r] == 0:\n",
    "            ans[c][r] = i\n",
    "            r += 1 if r != n-1 and ans[c][r+1] == 0 else 0\n",
    "            i += 1\n",
    "        c += 1\n",
    "\n",
    "        while c < n and ans[c][r] == 0:\n",
    "            ans[c][r] = i\n",
    "            c += 1 if c != n-1 and ans[c+1][r] == 0 else 0\n",
    "            i += 1\n",
    "        r -= 1\n",
    "\n",
    "        while r >= 0 and ans[c][r] == 0:\n",
    "            ans[c][r] = i\n",
    "            r -= 1 if r != 0 and ans[c][r-1] == 0 else 0\n",
    "            i += 1\n",
    "        c -= 1\n",
    "\n",
    "        while c >= 0 and ans[c][r] == 0:\n",
    "            ans[c][r] = i\n",
    "            c -= 1 if c != 0 and ans[c-1][r] == 0 else 0\n",
    "            i += 1\n",
    "        r += 1\n",
    "\n",
    "    return ans"
   ]
  },
  {
   "cell_type": "code",
   "execution_count": 17,
   "id": "3a9bffaa-8157-4aba-8a72-ad51ec250c43",
   "metadata": {},
   "outputs": [
    {
     "data": {
      "text/plain": [
       "[[1, 2, 3], [8, 9, 4], [7, 6, 5]]"
      ]
     },
     "execution_count": 17,
     "metadata": {},
     "output_type": "execute_result"
    }
   ],
   "source": [
    "n = 3\n",
    "generateMtr(n)"
   ]
  },
  {
   "cell_type": "markdown",
   "id": "e0b8b9c5-57dc-4c6d-a82c-8a83d0f8e362",
   "metadata": {},
   "source": [
    "**Question 8**\n",
    "\n",
    "Given two [sparse matrices](https://en.wikipedia.org/wiki/Sparse_matrix) mat1 of size m x k and mat2 of size k x n, return the result of mat1 x mat2. You may assume that multiplication is always possible.\n",
    "\n",
    "**Example 1:**\n",
    "\n",
    "\n",
    "\n",
    "Input: mat1 = [[1,0,0],[-1,0,3]], mat2 = [[7,0,0],[0,0,0],[0,0,1]]\n",
    "\n",
    "Output:\n",
    "\n",
    "[[7,0,0],[-7,0,3]]"
   ]
  },
  {
   "cell_type": "code",
   "execution_count": 21,
   "id": "92d9be42-9653-4f90-a8de-69fb571e930a",
   "metadata": {},
   "outputs": [],
   "source": [
    "def multi(A, B):\n",
    "    \n",
    "    ret = [[0 for j in range(len(B[0]))] for i in range(len(A))]\n",
    "#     print(ret)\n",
    "    for i, row in enumerate(A):\n",
    "        for k, a in enumerate(row):\n",
    "            if a:\n",
    "                for j, b in enumerate(B[k]):\n",
    "                    if b:\n",
    "                        ret[i][j] += a * b\n",
    "    return ret"
   ]
  },
  {
   "cell_type": "code",
   "execution_count": 22,
   "id": "4311fbab-4e78-41bf-9294-d9f9ede8d16f",
   "metadata": {},
   "outputs": [
    {
     "data": {
      "text/plain": [
       "[[7, 0, 0], [-7, 0, 3]]"
      ]
     },
     "execution_count": 22,
     "metadata": {},
     "output_type": "execute_result"
    }
   ],
   "source": [
    "mat1 = [[1,0,0],[-1,0,3]]\n",
    "mat2 = [[7,0,0],[0,0,0],[0,0,1]]\n",
    "\n",
    "multi(mat1, mat2)"
   ]
  }
 ],
 "metadata": {
  "kernelspec": {
   "display_name": "Python 3 (ipykernel)",
   "language": "python",
   "name": "python3"
  },
  "language_info": {
   "codemirror_mode": {
    "name": "ipython",
    "version": 3
   },
   "file_extension": ".py",
   "mimetype": "text/x-python",
   "name": "python",
   "nbconvert_exporter": "python",
   "pygments_lexer": "ipython3",
   "version": "3.10.9"
  }
 },
 "nbformat": 4,
 "nbformat_minor": 5
}
