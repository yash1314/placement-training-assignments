{
 "cells": [
  {
   "cell_type": "markdown",
   "id": "ca25c911",
   "metadata": {},
   "source": [
    "**Question 1** Given three integer arrays arr1, arr2 and arr3 sorted in strictly increasing order, return a sorted array of only the integers that appeared in all three arrays.\n",
    "\n",
    "Example 1:\n",
    "\n",
    "Input: arr1 = [1,2,3,4,5], arr2 = [1,2,5,7,9], arr3 = [1,3,4,5,8]\n",
    "\n",
    "Output: [1,5]\n",
    "\n",
    "Explanation: Only 1 and 5 appeared in the three arrays."
   ]
  },
  {
   "cell_type": "code",
   "execution_count": 2,
   "id": "107f0d6f",
   "metadata": {},
   "outputs": [],
   "source": [
    "def arraysInt(arr1, arr2, arr3):\n",
    "    \n",
    "    def find(arr, val):\n",
    "        left, right = 0, len(arr) - 1\n",
    "        \n",
    "        while left < right:\n",
    "            mid = (left + right) >> 1\n",
    "            \n",
    "            if arr[mid] >= val:\n",
    "                right = mid\n",
    "                \n",
    "            else:\n",
    "                left = mid + 1\n",
    "        return arr[left] == val\n",
    "                \n",
    "    res = []\n",
    "                \n",
    "    for num in arr1:\n",
    "        if find(arr2, num) and find(arr3, num):\n",
    "            res.append(num)\n",
    "    return res"
   ]
  },
  {
   "cell_type": "code",
   "execution_count": 3,
   "id": "1dbdf826",
   "metadata": {},
   "outputs": [
    {
     "data": {
      "text/plain": [
       "[1, 5]"
      ]
     },
     "execution_count": 3,
     "metadata": {},
     "output_type": "execute_result"
    }
   ],
   "source": [
    "num1 = [1,2,3,4,5]\n",
    "num2 = [1,2,5,7,9]\n",
    "num3 = [1,3,4,5,8]\n",
    "\n",
    "arraysInt(num1, num2, num3)"
   ]
  },
  {
   "cell_type": "markdown",
   "id": "ea2ed2f2",
   "metadata": {},
   "source": [
    "**Question 2**\n",
    "\n",
    "Given two 0-indexed integer arrays nums1 and nums2, return a list answer of size 2 where:\n",
    "\n",
    "answer[0] is a list of all distinct* integers in* nums1 which are not* present in* nums2.\n",
    "answer[1] is a list of all distinct* integers in* nums2 which are not* present in* nums1.\n",
    "Note that the integers in the lists may be returned in any order.\n",
    "\n",
    "Example 1:\n",
    "\n",
    "Input: nums1 = [1,2,3], nums2 = [2,4,6]\n",
    "\n",
    "Output: [[1,3],[4,6]]\n",
    "\n",
    "Explanation:\n",
    "\n",
    "For nums1, nums1[1] = 2 is present at index 0 of nums2, whereas nums1[0] = 1 and nums1[2] = 3 are not present in nums2. Therefore, answer[0] = [1,3].\n",
    "\n",
    "For nums2, nums2[0] = 2 is present at index 1 of nums1, whereas nums2[1] = 4 and nums2[2] = 6 are not present in nums2. Therefore, answer[1] = [4,6]."
   ]
  },
  {
   "cell_type": "code",
   "execution_count": 5,
   "id": "99d0b4a3",
   "metadata": {},
   "outputs": [],
   "source": [
    "def find(nums1, nums2):\n",
    "        nums1, nums2 = set(nums1), set(nums2)\n",
    "        return [list(nums1 - nums2), list(nums2 - nums1)]"
   ]
  },
  {
   "cell_type": "code",
   "execution_count": 6,
   "id": "70d3dc32",
   "metadata": {},
   "outputs": [
    {
     "data": {
      "text/plain": [
       "[[1, 3], [4, 6]]"
      ]
     },
     "execution_count": 6,
     "metadata": {},
     "output_type": "execute_result"
    }
   ],
   "source": [
    "nums1 = [1,2,3]\n",
    "nums2 = [2,4,6]\n",
    "\n",
    "find(nums1, nums2)"
   ]
  },
  {
   "cell_type": "markdown",
   "id": "0dd4138b",
   "metadata": {},
   "source": [
    "**Question 3** Given a 2D integer array matrix, return the transpose* of* matrix.\n",
    "\n",
    "The transpose of a matrix is the matrix flipped over its main diagonal, switching the matrix's row and column indices.\n",
    "\n",
    "Example 1:\n",
    "\n",
    "Input: matrix = [[1,2,3],[4,5,6],[7,8,9]]\n",
    "\n",
    "Output: [[1,4,7],[2,5,8],[3,6,9]]"
   ]
  },
  {
   "cell_type": "code",
   "execution_count": 8,
   "id": "d484e99f",
   "metadata": {},
   "outputs": [],
   "source": [
    "def trans(matrix):\n",
    "    \n",
    "    res = []\n",
    "    for i in range(len(matrix[0])):\n",
    "        temp = []\n",
    "        for j in range(len(matrix)):\n",
    "            temp.append(matrix[j][i])\n",
    "        res.append(temp)\n",
    "    return (res)"
   ]
  },
  {
   "cell_type": "code",
   "execution_count": 9,
   "id": "308bdf91",
   "metadata": {},
   "outputs": [
    {
     "data": {
      "text/plain": [
       "[[1, 4, 7], [2, 5, 8], [3, 6, 9]]"
      ]
     },
     "execution_count": 9,
     "metadata": {},
     "output_type": "execute_result"
    }
   ],
   "source": [
    "matrix = [[1,2,3],[4,5,6],[7,8,9]]\n",
    "\n",
    "trans(matrix)"
   ]
  },
  {
   "cell_type": "markdown",
   "id": "83f80076",
   "metadata": {},
   "source": [
    "**Question 4** Given an integer array nums of 2n integers, group these integers into n pairs (a1, b1), (a2, b2), ..., (an, bn) such that the sum of min(ai, bi) for all i is maximized. Return the maximized sum.\n",
    "\n",
    "Example 1:\n",
    "\n",
    "Input: nums = [1,4,3,2]\n",
    "\n",
    "Output: 4\n",
    "\n",
    "Explanation: All possible pairings (ignoring the ordering of elements) are:\n",
    "\n",
    "(1, 4), (2, 3) -> min(1, 4) + min(2, 3) = 1 + 2 = 3\n",
    "\n",
    "(1, 3), (2, 4) -> min(1, 3) + min(2, 4) = 1 + 2 = 3\n",
    "\n",
    "(1, 2), (3, 4) -> min(1, 2) + min(3, 4) = 1 + 3 = 4\n",
    "\n",
    "So the maximum possible sum is 4."
   ]
  },
  {
   "cell_type": "code",
   "execution_count": 10,
   "id": "a2ca42fc",
   "metadata": {},
   "outputs": [],
   "source": [
    "def PairSum(nums):\n",
    "    nums.sort()\n",
    "    res = 0\n",
    "    for i in range(0, len(nums), 2):\n",
    "        res += nums[i]\n",
    "    return res"
   ]
  },
  {
   "cell_type": "code",
   "execution_count": 11,
   "id": "11ecbabe",
   "metadata": {},
   "outputs": [
    {
     "data": {
      "text/plain": [
       "4"
      ]
     },
     "execution_count": 11,
     "metadata": {},
     "output_type": "execute_result"
    }
   ],
   "source": [
    "nums = [1,4,3,2]\n",
    "PairSum(nums)"
   ]
  },
  {
   "cell_type": "markdown",
   "id": "f779965a",
   "metadata": {},
   "source": [
    "**Question 5** You have n coins and you want to build a staircase with these coins. The staircase consists of k rows where the ith row has exactly i coins. The last row of the staircase may be incomplete.\n",
    "\n",
    "Given the integer n, return the number of complete rows* of the staircase you will build*.\n",
    "\n",
    "Example 1:\n",
    "\n",
    "Input: n = 5\n",
    "\n",
    "Output: 2\n",
    "\n",
    "Explanation: Because the 3rd row is incomplete, we return 2."
   ]
  },
  {
   "cell_type": "markdown",
   "id": "beb25489",
   "metadata": {},
   "source": [
    "**Question 6** Given an integer array nums sorted in non-decreasing order, return an array of the squares of each number* sorted in non-decreasing order*.\n",
    "\n",
    "Example 1:\n",
    "\n",
    "Input: nums = [-4,-1,0,3,10]\n",
    "\n",
    "Output: [0,1,9,16,100]\n",
    "\n",
    "Explanation: After squaring, the array becomes [16,1,0,9,100]. After sorting, it becomes [0,1,9,16,100]"
   ]
  },
  {
   "cell_type": "code",
   "execution_count": 13,
   "id": "57b53266",
   "metadata": {},
   "outputs": [],
   "source": [
    "def sort(nums):\n",
    "    # Two Pointer Approach\n",
    "    n = len(nums)\n",
    "    l, r = 0, n - 1\n",
    "    k = n - 1\n",
    "    ans = [0] * n\n",
    "        \n",
    "    while k >= 0:\n",
    "        if abs(nums[l]) > nums[r]:\n",
    "            ans[k] = nums[l] * nums[l]\n",
    "            l += 1\n",
    "        else:\n",
    "            ans[k] = nums[r] * nums[r]\n",
    "            r -= 1\n",
    "        k -= 1\n",
    "    return ans"
   ]
  },
  {
   "cell_type": "code",
   "execution_count": 14,
   "id": "48fb970f",
   "metadata": {},
   "outputs": [
    {
     "data": {
      "text/plain": [
       "[0, 1, 9, 16, 100]"
      ]
     },
     "execution_count": 14,
     "metadata": {},
     "output_type": "execute_result"
    }
   ],
   "source": [
    "nums = [-4,-1,0,3,10]\n",
    "sort(nums)"
   ]
  },
  {
   "cell_type": "markdown",
   "id": "dabcbd04",
   "metadata": {},
   "source": [
    "**Question 7** You are given an m x n matrix M initialized with all 0's and an array of operations ops, where ops[i] = [ai, bi] means M[x][y] should be incremented by one for all 0 <= x < ai and 0 <= y < bi.\n",
    "\n",
    "Count and return the number of maximum integers in the matrix after performing all the operations\n",
    "\n",
    "Example 1:\n",
    "\n",
    "q4.jpg\n",
    "\n",
    "Input: m = 3, n = 3, ops = [[2,2],[3,3]]\n",
    "\n",
    "Output: 4\n",
    "\n",
    "Explanation: The maximum integer in M is 2, and there are four of it in M. So return 4."
   ]
  },
  {
   "cell_type": "code",
   "execution_count": 15,
   "id": "9ae49970",
   "metadata": {},
   "outputs": [],
   "source": [
    "def mCount(m, n, ops):\n",
    "        min_y = m\n",
    "        min_x = n\n",
    "\n",
    "        for y, x in ops:\n",
    "            min_y = min(min_y, y)\n",
    "            min_x = min(min_x, x)\n",
    "\n",
    "        return min_x * min_y"
   ]
  },
  {
   "cell_type": "code",
   "execution_count": 16,
   "id": "e968f90c",
   "metadata": {},
   "outputs": [
    {
     "data": {
      "text/plain": [
       "4"
      ]
     },
     "execution_count": 16,
     "metadata": {},
     "output_type": "execute_result"
    }
   ],
   "source": [
    "m = 3\n",
    "n = 3\n",
    "ops = [[2,2],[3,3]]\n",
    "\n",
    "mCount(m, n, ops)"
   ]
  },
  {
   "cell_type": "markdown",
   "id": "6b086e37",
   "metadata": {},
   "source": [
    "**Question 8** Given the array nums consisting of 2n elements in the form [x1,x2,...,xn,y1,y2,...,yn].\n",
    "\n",
    "Return the array in the form [x1,y1,x2,y2,...,xn,yn].\n",
    "\n",
    "Example 1:\n",
    "\n",
    "Input: nums = [2,5,1,3,4,7], n = 3\n",
    "\n",
    "Output: [2,3,5,4,1,7]\n",
    "\n",
    "Explanation: Since x1=2, x2=5, x3=1, y1=3, y2=4, y3=7 then the answer is [2,3,5,4,1,7]."
   ]
  },
  {
   "cell_type": "code",
   "execution_count": 18,
   "id": "42fb56ee",
   "metadata": {},
   "outputs": [],
   "source": [
    "def shuffle(nums, n):\n",
    "    \n",
    "    arr1=[]\n",
    "    arr2=[]\n",
    "    arr3=[]\n",
    "    \n",
    "    for i in range(n):\n",
    "        arr1.append(nums[i])\n",
    "    for i in range(n,2*n):\n",
    "        arr2.append(nums[i])\n",
    "    for i in range(n):\n",
    "        arr3.append(arr1[i])\n",
    "        arr3.append(arr2[i])\n",
    "    return arr3"
   ]
  },
  {
   "cell_type": "code",
   "execution_count": 19,
   "id": "67fa25a5",
   "metadata": {},
   "outputs": [
    {
     "data": {
      "text/plain": [
       "[2, 3, 5, 4, 1, 7]"
      ]
     },
     "execution_count": 19,
     "metadata": {},
     "output_type": "execute_result"
    }
   ],
   "source": [
    "nums = [2,5,1,3,4,7]\n",
    "n = 3\n",
    "shuffle(nums, n)"
   ]
  }
 ],
 "metadata": {
  "kernelspec": {
   "display_name": "Python 3 (ipykernel)",
   "language": "python",
   "name": "python3"
  },
  "language_info": {
   "codemirror_mode": {
    "name": "ipython",
    "version": 3
   },
   "file_extension": ".py",
   "mimetype": "text/x-python",
   "name": "python",
   "nbconvert_exporter": "python",
   "pygments_lexer": "ipython3",
   "version": "3.10.9"
  }
 },
 "nbformat": 4,
 "nbformat_minor": 5
}
