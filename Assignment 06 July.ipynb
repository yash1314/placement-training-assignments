{
 "cells": [
  {
   "cell_type": "markdown",
   "id": "d78c00b5",
   "metadata": {},
   "source": [
    "#### 1. Write a Python program to reverse a string without using any built-in string reversal functions."
   ]
  },
  {
   "cell_type": "code",
   "execution_count": 92,
   "id": "19cca412",
   "metadata": {},
   "outputs": [],
   "source": [
    "def reverse_string(input_str):\n",
    "    reversed_str = ''\n",
    "    for i in range(len(input_str)-1, -1, -1):\n",
    "        reversed_str += input_str[i]\n",
    "    return reversed_str"
   ]
  },
  {
   "cell_type": "code",
   "execution_count": 94,
   "id": "98741a29",
   "metadata": {},
   "outputs": [
    {
     "data": {
      "text/plain": [
       "'!dlroW ,olleH'"
      ]
     },
     "execution_count": 94,
     "metadata": {},
     "output_type": "execute_result"
    }
   ],
   "source": [
    "reverse_string(input_str  = 'Hello, World!' )"
   ]
  },
  {
   "cell_type": "markdown",
   "id": "14bc3ff9",
   "metadata": {},
   "source": [
    "#### 2. Implement a function to check if a given string is a palindrome."
   ]
  },
  {
   "cell_type": "code",
   "execution_count": 95,
   "id": "18290870",
   "metadata": {},
   "outputs": [],
   "source": [
    "def is_palindrome(input_str):\n",
    "    input_str = input_str.lower()\n",
    "    reversed_str = reverse_string(input_str)\n",
    "    return input_str == reversed_str"
   ]
  },
  {
   "cell_type": "code",
   "execution_count": 96,
   "id": "ac63d435",
   "metadata": {},
   "outputs": [
    {
     "name": "stdout",
     "output_type": "stream",
     "text": [
      "True\n"
     ]
    }
   ],
   "source": [
    "input_str = 'level'\n",
    "print(is_palindrome(input_str))  "
   ]
  },
  {
   "cell_type": "markdown",
   "id": "c66ccca5",
   "metadata": {},
   "source": [
    "#### 3. Write a program to find the largest element in a given list."
   ]
  },
  {
   "cell_type": "code",
   "execution_count": 97,
   "id": "b8735c52",
   "metadata": {},
   "outputs": [],
   "source": [
    "def largest_element(lst):\n",
    "    if len(lst) == 0:\n",
    "        return None\n",
    "    larg_element = lst[0]\n",
    "    for element in lst:\n",
    "        if element > larg_element:\n",
    "            larg_element = element\n",
    "    return larg_element"
   ]
  },
  {
   "cell_type": "code",
   "execution_count": 98,
   "id": "39053eeb",
   "metadata": {},
   "outputs": [
    {
     "data": {
      "text/plain": [
       "99"
      ]
     },
     "execution_count": 98,
     "metadata": {},
     "output_type": "execute_result"
    }
   ],
   "source": [
    "largest_element(lst = [12, 45, 67, 34, 99, 23])"
   ]
  },
  {
   "cell_type": "markdown",
   "id": "d08acd6d",
   "metadata": {},
   "source": [
    "#### 4. Implement a function to count the occurrence of each element in a list."
   ]
  },
  {
   "cell_type": "code",
   "execution_count": 99,
   "id": "be95e0a3",
   "metadata": {},
   "outputs": [],
   "source": [
    "def count_occur(lst):\n",
    "    occur_count = {}\n",
    "    for element in lst:\n",
    "        if element in occur_count:\n",
    "            occur_count[element] += 1\n",
    "        else:\n",
    "            occur_count[element] = 1\n",
    "    return occur_count"
   ]
  },
  {
   "cell_type": "code",
   "execution_count": 100,
   "id": "6838fa12",
   "metadata": {},
   "outputs": [
    {
     "data": {
      "text/plain": [
       "{1: 2, 2: 3, 3: 3, 4: 1}"
      ]
     },
     "execution_count": 100,
     "metadata": {},
     "output_type": "execute_result"
    }
   ],
   "source": [
    "count_occur([1, 2, 3, 2, 1, 3, 3, 4, 2])"
   ]
  },
  {
   "cell_type": "markdown",
   "id": "1564270a",
   "metadata": {},
   "source": [
    "#### 5. Write a Python program to find the second largest number in a list."
   ]
  },
  {
   "cell_type": "code",
   "execution_count": 101,
   "id": "fc75d4c8",
   "metadata": {},
   "outputs": [],
   "source": [
    "def second_larg(lst):\n",
    "    \n",
    "    if len(lst) < 2:\n",
    "        return None\n",
    "    largest = max(lst[0], lst[1])\n",
    "    second_largest = min(lst[0], lst[1])\n",
    "    for i in range(2, len(lst)):\n",
    "        if lst[i] > largest:\n",
    "            second_largest = largest\n",
    "            largest = lst[i]\n",
    "        elif lst[i] > second_largest:\n",
    "            second_largest = lst[i]\n",
    "    return second_largest"
   ]
  },
  {
   "cell_type": "code",
   "execution_count": 102,
   "id": "583036e2",
   "metadata": {},
   "outputs": [
    {
     "data": {
      "text/plain": [
       "67"
      ]
     },
     "execution_count": 102,
     "metadata": {},
     "output_type": "execute_result"
    }
   ],
   "source": [
    "second_larg(lst = [12, 45, 67, 34, 99, 23])"
   ]
  },
  {
   "cell_type": "markdown",
   "id": "77199505",
   "metadata": {},
   "source": [
    "#### 6. Implement a function to remove duplicate elements from a list.\n"
   ]
  },
  {
   "cell_type": "code",
   "execution_count": 103,
   "id": "c59a0b1f",
   "metadata": {},
   "outputs": [],
   "source": [
    "def remove_dup(lst):\n",
    "    return list(set(lst))"
   ]
  },
  {
   "cell_type": "code",
   "execution_count": 104,
   "id": "03760702",
   "metadata": {},
   "outputs": [
    {
     "data": {
      "text/plain": [
       "[1, 2, 3, 4]"
      ]
     },
     "execution_count": 104,
     "metadata": {},
     "output_type": "execute_result"
    }
   ],
   "source": [
    "remove_dup(lst = [1, 2, 3, 2, 1, 3, 3, 4, 2])"
   ]
  },
  {
   "cell_type": "markdown",
   "id": "fc2223f8",
   "metadata": {},
   "source": [
    "#### 7. Write a program to calculate the factorial of a given number."
   ]
  },
  {
   "cell_type": "code",
   "execution_count": 106,
   "id": "137ebf5a",
   "metadata": {},
   "outputs": [],
   "source": [
    "def factorial(n):\n",
    "    if n == 0:\n",
    "        return 1\n",
    "    else:\n",
    "        return n * factorial(n-1)"
   ]
  },
  {
   "cell_type": "code",
   "execution_count": 108,
   "id": "e380e689",
   "metadata": {},
   "outputs": [
    {
     "data": {
      "text/plain": [
       "120"
      ]
     },
     "execution_count": 108,
     "metadata": {},
     "output_type": "execute_result"
    }
   ],
   "source": [
    "factorial(n = 5)"
   ]
  },
  {
   "cell_type": "markdown",
   "id": "efb7af22",
   "metadata": {},
   "source": [
    "#### 8. Implement a function to check if a given number is prime.\n"
   ]
  },
  {
   "cell_type": "code",
   "execution_count": 109,
   "id": "a27c4549",
   "metadata": {},
   "outputs": [],
   "source": [
    "def is_prime(n):\n",
    "    if n < 2:\n",
    "        return False\n",
    "    for i in range(2, int(n**0.5) + 1):\n",
    "        if n % i == 0:\n",
    "            return False\n",
    "    return True"
   ]
  },
  {
   "cell_type": "code",
   "execution_count": 110,
   "id": "2066197b",
   "metadata": {},
   "outputs": [
    {
     "data": {
      "text/plain": [
       "True"
      ]
     },
     "execution_count": 110,
     "metadata": {},
     "output_type": "execute_result"
    }
   ],
   "source": [
    "is_prime(n = 7)"
   ]
  },
  {
   "cell_type": "markdown",
   "id": "e7f7a788",
   "metadata": {},
   "source": [
    "#### 9. Write a Python program to sort a list of integers in ascending order.\n"
   ]
  },
  {
   "cell_type": "code",
   "execution_count": 111,
   "id": "89ef95e3",
   "metadata": {},
   "outputs": [],
   "source": [
    "def sort_list(lst):\n",
    "    return sorted(lst)"
   ]
  },
  {
   "cell_type": "code",
   "execution_count": 112,
   "id": "b2188ee9",
   "metadata": {},
   "outputs": [
    {
     "data": {
      "text/plain": [
       "[1, 2, 5, 8, 9, 12, 14, 23, 31]"
      ]
     },
     "execution_count": 112,
     "metadata": {},
     "output_type": "execute_result"
    }
   ],
   "source": [
    "sort_list([5, 2, 8, 1, 9,12,23,14,31])"
   ]
  },
  {
   "cell_type": "markdown",
   "id": "e04895d9",
   "metadata": {},
   "source": [
    "#### 10. Implement a function to find the sum of all numbers in a list."
   ]
  },
  {
   "cell_type": "code",
   "execution_count": 113,
   "id": "a71dbbb7",
   "metadata": {},
   "outputs": [],
   "source": [
    "def find_sum(lst):\n",
    "    return sum(lst)"
   ]
  },
  {
   "cell_type": "code",
   "execution_count": 114,
   "id": "30eb34b5",
   "metadata": {},
   "outputs": [
    {
     "data": {
      "text/plain": [
       "15"
      ]
     },
     "execution_count": 114,
     "metadata": {},
     "output_type": "execute_result"
    }
   ],
   "source": [
    "find_sum([1, 2, 3, 4, 5])"
   ]
  },
  {
   "cell_type": "markdown",
   "id": "7e4b59d9",
   "metadata": {},
   "source": [
    "#### 11. Write a program to find the common elements between two lists.\n"
   ]
  },
  {
   "cell_type": "code",
   "execution_count": 115,
   "id": "90f7f061",
   "metadata": {},
   "outputs": [],
   "source": [
    "def find_common_elements(list1, list2):\n",
    "    return list(set(list1) & set(list2))"
   ]
  },
  {
   "cell_type": "code",
   "execution_count": 116,
   "id": "86ec1f84",
   "metadata": {},
   "outputs": [
    {
     "data": {
      "text/plain": [
       "[4, 5]"
      ]
     },
     "execution_count": 116,
     "metadata": {},
     "output_type": "execute_result"
    }
   ],
   "source": [
    "list1 = [1, 2, 3, 4, 5]\n",
    "list2 = [4, 5, 6, 7, 8]\n",
    "find_common_elements(list1, list2)"
   ]
  },
  {
   "cell_type": "markdown",
   "id": "dd6d72be",
   "metadata": {},
   "source": [
    "#### 12. Implement a function to check if a given string is an anagram of another string.\n"
   ]
  },
  {
   "cell_type": "code",
   "execution_count": 117,
   "id": "d44392e0",
   "metadata": {},
   "outputs": [
    {
     "name": "stdout",
     "output_type": "stream",
     "text": [
      "True\n",
      "False\n"
     ]
    }
   ],
   "source": [
    "def is_anagram(str1, str2):\n",
    "    str1 = str1.lower().replace(' ', '')  \n",
    "    str2 = str2.lower().replace(' ', '')\n",
    "    return sorted(str1) == sorted(str2)\n",
    "\n",
    "\n",
    "str1 = 'listen'\n",
    "str2 = 'silent'\n",
    "print(is_anagram(str1, str2))  \n",
    "\n",
    "str1 = 'hello'\n",
    "str2 = 'world'\n",
    "print(is_anagram(str1, str2)) "
   ]
  },
  {
   "cell_type": "markdown",
   "id": "c28e7382",
   "metadata": {},
   "source": [
    "#### 13. Write a Python program to generate all permutations of a given string.\n"
   ]
  },
  {
   "cell_type": "code",
   "execution_count": 118,
   "id": "77ec8c14",
   "metadata": {},
   "outputs": [
    {
     "name": "stdout",
     "output_type": "stream",
     "text": [
      "['abc', 'acb', 'bac', 'bca', 'cab', 'cba']\n"
     ]
    }
   ],
   "source": [
    "def permutations(input_str):\n",
    "    if len(input_str) == 1:\n",
    "        return [input_str]\n",
    "    perms = []\n",
    "    for i in range(len(input_str)):\n",
    "        char = input_str[i]\n",
    "        remaining_str = input_str[:i] + input_str[i+1:]\n",
    "        for perm in permutations(remaining_str):\n",
    "            perms.append(char + perm)\n",
    "    return perms\n",
    "\n",
    "# Example \n",
    "input_str = 'abc'\n",
    "perms = permutations(input_str)\n",
    "print(perms) "
   ]
  },
  {
   "cell_type": "markdown",
   "id": "5c879775",
   "metadata": {},
   "source": [
    "#### 14. Implement a function to calculate the Fibonacci sequence up to a given number of terms.\n"
   ]
  },
  {
   "cell_type": "code",
   "execution_count": 119,
   "id": "d7416b88",
   "metadata": {},
   "outputs": [],
   "source": [
    "def fib_seq(num_terms):\n",
    "    sequence = [0, 1]\n",
    "    for i in range(2, num_terms):\n",
    "        next_term = sequence[i-1] + sequence[i-2]\n",
    "        sequence.append(next_term)\n",
    "    return sequence"
   ]
  },
  {
   "cell_type": "code",
   "execution_count": 120,
   "id": "daa95c21",
   "metadata": {},
   "outputs": [
    {
     "data": {
      "text/plain": [
       "[0, 1, 1, 2, 3, 5, 8, 13, 21, 34]"
      ]
     },
     "execution_count": 120,
     "metadata": {},
     "output_type": "execute_result"
    }
   ],
   "source": [
    "fib_seq(10)"
   ]
  },
  {
   "cell_type": "markdown",
   "id": "7ca601fd",
   "metadata": {},
   "source": [
    "#### 15. Write a program to find the median of a list of numbers."
   ]
  },
  {
   "cell_type": "code",
   "execution_count": 121,
   "id": "70969042",
   "metadata": {},
   "outputs": [],
   "source": [
    "def find_median(lst):\n",
    "    sorted_lst = sorted(lst)\n",
    "    n = len(sorted_lst)\n",
    "    if n % 2 == 0:\n",
    "        mid1 = sorted_lst[n//2 - 1]\n",
    "        mid2 = sorted_lst[n//2]\n",
    "        median = (mid1 + mid2) / 2\n",
    "    else:\n",
    "        median = sorted_lst[n//2]\n",
    "    return median"
   ]
  },
  {
   "cell_type": "code",
   "execution_count": 122,
   "id": "eda220ff",
   "metadata": {},
   "outputs": [
    {
     "data": {
      "text/plain": [
       "3"
      ]
     },
     "execution_count": 122,
     "metadata": {},
     "output_type": "execute_result"
    }
   ],
   "source": [
    "find_median(lst = [3, 1, 5, 2, 4])"
   ]
  },
  {
   "cell_type": "markdown",
   "id": "2d3a29b3",
   "metadata": {},
   "source": [
    "#### 16. Implement a function to check if a given list is sorted in non-decreasing order."
   ]
  },
  {
   "cell_type": "code",
   "execution_count": 131,
   "id": "f78dbe55",
   "metadata": {},
   "outputs": [],
   "source": [
    "def is_sorted(lst):\n",
    "    return all(lst[i] <= lst[i+1] for i in range(len(lst)-1))"
   ]
  },
  {
   "cell_type": "code",
   "execution_count": 132,
   "id": "1357ea96",
   "metadata": {},
   "outputs": [
    {
     "data": {
      "text/plain": [
       "False"
      ]
     },
     "execution_count": 132,
     "metadata": {},
     "output_type": "execute_result"
    }
   ],
   "source": [
    "is_sorted(lst = [5, 2, 7, 1, 9])"
   ]
  },
  {
   "cell_type": "markdown",
   "id": "329cacda",
   "metadata": {},
   "source": [
    "#### 17. Write a Python program to find the intersection of two lists."
   ]
  },
  {
   "cell_type": "code",
   "execution_count": 127,
   "id": "7b787f0c",
   "metadata": {},
   "outputs": [],
   "source": [
    "def find_inter(list1, list2):\n",
    "    return list(set(list1) & set(list2))"
   ]
  },
  {
   "cell_type": "code",
   "execution_count": 128,
   "id": "be625b8f",
   "metadata": {},
   "outputs": [
    {
     "data": {
      "text/plain": [
       "[4, 5]"
      ]
     },
     "execution_count": 128,
     "metadata": {},
     "output_type": "execute_result"
    }
   ],
   "source": [
    "list1 = [1, 2, 3, 4, 5]\n",
    "list2 = [4, 5, 6, 7, 8]\n",
    "find_inter(list1, list2)  "
   ]
  },
  {
   "cell_type": "markdown",
   "id": "b14f6983",
   "metadata": {},
   "source": [
    "#### 18. Implement a function to find the maximum subarray sum in a given list."
   ]
  },
  {
   "cell_type": "code",
   "execution_count": 125,
   "id": "ede3ae91",
   "metadata": {},
   "outputs": [],
   "source": [
    "def max_subarray_sum(lst):\n",
    "    max_sum = float('-inf')\n",
    "    current_sum = 0\n",
    "    for num in lst:\n",
    "        current_sum += num\n",
    "        if current_sum > max_sum:\n",
    "            max_sum = current_sum\n",
    "        if current_sum < 0:\n",
    "            current_sum = 0\n",
    "    return max_sum"
   ]
  },
  {
   "cell_type": "code",
   "execution_count": 126,
   "id": "01f0e742",
   "metadata": {},
   "outputs": [
    {
     "data": {
      "text/plain": [
       "6"
      ]
     },
     "execution_count": 126,
     "metadata": {},
     "output_type": "execute_result"
    }
   ],
   "source": [
    "max_subarray_sum(lst = [-2, 1, -3, 4, -1, 2, 1, -5, 4])"
   ]
  },
  {
   "cell_type": "markdown",
   "id": "4845cedc",
   "metadata": {},
   "source": [
    "#### 19. Write a program to remove all vowels from a given string.¶"
   ]
  },
  {
   "cell_type": "code",
   "execution_count": 124,
   "id": "2954cc3a",
   "metadata": {},
   "outputs": [
    {
     "name": "stdout",
     "output_type": "stream",
     "text": [
      "Hll, Wrld!\n"
     ]
    }
   ],
   "source": [
    "def remove_vowels(input_str):\n",
    "    vowels = 'aeiouAEIOU'\n",
    "    return ''.join(char for char in input_str if char not in vowels)\n",
    "\n",
    "input_str = 'Hello, World!'\n",
    "result = remove_vowels(input_str)\n",
    "print(result) "
   ]
  },
  {
   "cell_type": "markdown",
   "id": "a652905a",
   "metadata": {},
   "source": [
    "#### 20. Implement a function to reverse the order of words in a given sentence."
   ]
  },
  {
   "cell_type": "code",
   "execution_count": 89,
   "id": "bdd6c3dc",
   "metadata": {},
   "outputs": [],
   "source": [
    "def reverse_words(sentence):\n",
    "    words = sentence.split()\n",
    "    reversed_sentence = ' '.join(reversed(words))\n",
    "    return reversed_sentence"
   ]
  },
  {
   "cell_type": "code",
   "execution_count": 91,
   "id": "84aa42e8",
   "metadata": {},
   "outputs": [
    {
     "data": {
      "text/plain": [
       "'World! Hello,'"
      ]
     },
     "execution_count": 91,
     "metadata": {},
     "output_type": "execute_result"
    }
   ],
   "source": [
    "reverse_words(sentence  = 'Hello, World!')"
   ]
  },
  {
   "cell_type": "markdown",
   "id": "3bf5fec5",
   "metadata": {},
   "source": [
    "#### 21. Write a Python program to check if two strings are anagrams of each other."
   ]
  },
  {
   "cell_type": "code",
   "execution_count": 87,
   "id": "6f1907d6",
   "metadata": {},
   "outputs": [],
   "source": [
    "def are_anagrams(str1, str2):\n",
    "    str1 = str1.lower().replace(' ', '')  \n",
    "    str2 = str2.lower().replace(' ', '')\n",
    "    return sorted(str1) == sorted(str2)"
   ]
  },
  {
   "cell_type": "code",
   "execution_count": 88,
   "id": "a00f9c66",
   "metadata": {},
   "outputs": [
    {
     "data": {
      "text/plain": [
       "True"
      ]
     },
     "execution_count": 88,
     "metadata": {},
     "output_type": "execute_result"
    }
   ],
   "source": [
    "str1 = 'listen'\n",
    "str2 = 'silent'\n",
    "are_anagrams(str1, str2)"
   ]
  },
  {
   "cell_type": "markdown",
   "id": "24849f3b",
   "metadata": {},
   "source": [
    "#### 22. Implement a function to find the first non-repeating character in a string.\n"
   ]
  },
  {
   "cell_type": "code",
   "execution_count": 85,
   "id": "8932d7d6",
   "metadata": {},
   "outputs": [],
   "source": [
    "def find_char(input_str):\n",
    "    char_count = {}\n",
    "    for char in input_str:\n",
    "        if char in char_count:\n",
    "            char_count[char] += 1\n",
    "        else:\n",
    "            char_count[char] = 1\n",
    "    for char in input_str:\n",
    "        if char_count[char] == 1:\n",
    "            return char\n",
    "    return None"
   ]
  },
  {
   "cell_type": "code",
   "execution_count": 86,
   "id": "a6a40902",
   "metadata": {},
   "outputs": [
    {
     "data": {
      "text/plain": [
       "'c'"
      ]
     },
     "execution_count": 86,
     "metadata": {},
     "output_type": "execute_result"
    }
   ],
   "source": [
    "find_char(input_str = 'abacabad')"
   ]
  },
  {
   "cell_type": "markdown",
   "id": "99b6ec87",
   "metadata": {},
   "source": [
    "#### 23. Write a program to find the prime factors of a given number.\n"
   ]
  },
  {
   "cell_type": "code",
   "execution_count": 83,
   "id": "fdfa085a",
   "metadata": {},
   "outputs": [],
   "source": [
    "def prime_factors(num):\n",
    "    factors = []\n",
    "    divisor = 2\n",
    "    while divisor <= num:\n",
    "        if num % divisor == 0:\n",
    "            factors.append(divisor)\n",
    "            num = num / divisor\n",
    "        else:\n",
    "            divisor += 1\n",
    "    return factors"
   ]
  },
  {
   "cell_type": "code",
   "execution_count": 84,
   "id": "c9fa4442",
   "metadata": {},
   "outputs": [
    {
     "data": {
      "text/plain": [
       "[2, 2, 2, 2, 3]"
      ]
     },
     "execution_count": 84,
     "metadata": {},
     "output_type": "execute_result"
    }
   ],
   "source": [
    "prime_factors(num = 48)"
   ]
  },
  {
   "cell_type": "markdown",
   "id": "c842c75d",
   "metadata": {},
   "source": [
    "#### 24. Implement a function to check if a given number is a power of two."
   ]
  },
  {
   "cell_type": "code",
   "execution_count": 79,
   "id": "78df48d9",
   "metadata": {},
   "outputs": [],
   "source": [
    "def power_two(num):\n",
    "    return num > 0 and (num & (num - 1)) == 0 "
   ]
  },
  {
   "cell_type": "code",
   "execution_count": 82,
   "id": "08bef839",
   "metadata": {},
   "outputs": [
    {
     "name": "stdout",
     "output_type": "stream",
     "text": [
      "True\n"
     ]
    }
   ],
   "source": [
    "num = 16\n",
    "print(power_two(num))  "
   ]
  },
  {
   "cell_type": "code",
   "execution_count": 81,
   "id": "de620270",
   "metadata": {},
   "outputs": [
    {
     "name": "stdout",
     "output_type": "stream",
     "text": [
      "False\n"
     ]
    }
   ],
   "source": [
    "num = 15\n",
    "print(power_two(num))"
   ]
  },
  {
   "cell_type": "markdown",
   "id": "ab3e9dfe",
   "metadata": {},
   "source": [
    "#### 25. Write a Python program to merge two sorted lists into a single sorted list."
   ]
  },
  {
   "cell_type": "code",
   "execution_count": 77,
   "id": "a7e39076",
   "metadata": {},
   "outputs": [],
   "source": [
    "def merge_list(list1, list2):\n",
    "    merged_list = []\n",
    "    i, j = 0, 0\n",
    "\n",
    "    while i < len(list1) and j < len(list2):\n",
    "        merged_list.append(min(list1[i], list2[j]))\n",
    "        if list1[i] < list2[j]:\n",
    "            i += 1\n",
    "        else:\n",
    "            j += 1\n",
    "   \n",
    "    while i < len(list1):\n",
    "        merged_list.append(list1[i])\n",
    "        i += 1\n",
    "    while j < len(list2):\n",
    "        merged_list.append(list2[j])\n",
    "        j += 1\n",
    "    return merged_list"
   ]
  },
  {
   "cell_type": "code",
   "execution_count": 78,
   "id": "6cf15637",
   "metadata": {},
   "outputs": [
    {
     "data": {
      "text/plain": [
       "[1, 2, 3, 5, 6, 7]"
      ]
     },
     "execution_count": 78,
     "metadata": {},
     "output_type": "execute_result"
    }
   ],
   "source": [
    "# test case\n",
    "\n",
    "merge_list([1,2,3], [5,6,7])"
   ]
  },
  {
   "cell_type": "markdown",
   "id": "88eb7a55",
   "metadata": {},
   "source": [
    "#### 26. Implement a function to find the mode of a list of numbers."
   ]
  },
  {
   "cell_type": "code",
   "execution_count": 13,
   "id": "6f5f3820",
   "metadata": {},
   "outputs": [],
   "source": [
    "from collections import Counter\n",
    "\n",
    "def mode_find(num):\n",
    "    counter = Counter(num)\n",
    "    mode = counter.most_common(1)[0][0]\n",
    "    return mode"
   ]
  },
  {
   "cell_type": "code",
   "execution_count": 15,
   "id": "9a131524",
   "metadata": {},
   "outputs": [
    {
     "data": {
      "text/plain": [
       "1"
      ]
     },
     "execution_count": 15,
     "metadata": {},
     "output_type": "execute_result"
    }
   ],
   "source": [
    "#test case\n",
    "\n",
    "mode_find([1,2,1,3,4,4,4,2,1])"
   ]
  },
  {
   "cell_type": "markdown",
   "id": "d73f6f27",
   "metadata": {},
   "source": [
    "#### 27. Write a program to find the greatest common divisor (GCD) of two numbers."
   ]
  },
  {
   "cell_type": "code",
   "execution_count": 18,
   "id": "1223842a",
   "metadata": {},
   "outputs": [],
   "source": [
    "def gcd(a, b):\n",
    "    while b:\n",
    "        a, b = b, a % b\n",
    "    return a"
   ]
  },
  {
   "cell_type": "code",
   "execution_count": 20,
   "id": "bb6c5505",
   "metadata": {},
   "outputs": [
    {
     "data": {
      "text/plain": [
       "2"
      ]
     },
     "execution_count": 20,
     "metadata": {},
     "output_type": "execute_result"
    }
   ],
   "source": [
    "gcd(24,86)"
   ]
  },
  {
   "cell_type": "markdown",
   "id": "7fb683b4",
   "metadata": {},
   "source": [
    "#### 28. Implement a function to calculate the square root of a given number."
   ]
  },
  {
   "cell_type": "code",
   "execution_count": 21,
   "id": "4e4139d0",
   "metadata": {},
   "outputs": [],
   "source": [
    "def sqrt(num):\n",
    "    if num < 0:\n",
    "        return None\n",
    "\n",
    "    if num == 0 or num == 1:\n",
    "        return num\n",
    "\n",
    "    guess = num / 2\n",
    "    \n",
    "    while abs(guess * guess - num) > 0.0001:\n",
    "        guess = (guess + num / guess) / 2\n",
    "\n",
    "    return guess"
   ]
  },
  {
   "cell_type": "code",
   "execution_count": 22,
   "id": "7bc3d42c",
   "metadata": {},
   "outputs": [
    {
     "data": {
      "text/plain": [
       "1.7320508100147274"
      ]
     },
     "execution_count": 22,
     "metadata": {},
     "output_type": "execute_result"
    }
   ],
   "source": [
    "sqrt(3)"
   ]
  },
  {
   "cell_type": "markdown",
   "id": "01bcc6ce",
   "metadata": {},
   "source": [
    "#### 29. Write a Python program to check if a given string is a valid palindrome ignoring non-alphanumeric characters."
   ]
  },
  {
   "cell_type": "code",
   "execution_count": 24,
   "id": "45f0adcc",
   "metadata": {},
   "outputs": [],
   "source": [
    "import re\n",
    "\n",
    "def palindrome_check(s):\n",
    "    s = re.sub(r'[^a-zA-Z0-9]', '', s.lower())\n",
    "    return s == s[::-1]"
   ]
  },
  {
   "cell_type": "code",
   "execution_count": 25,
   "id": "24692523",
   "metadata": {},
   "outputs": [
    {
     "data": {
      "text/plain": [
       "False"
      ]
     },
     "execution_count": 25,
     "metadata": {},
     "output_type": "execute_result"
    }
   ],
   "source": [
    "palindrome_check('banana')"
   ]
  },
  {
   "cell_type": "markdown",
   "id": "df1950dc",
   "metadata": {},
   "source": [
    "#### 30. Implement a function to find the minimum element in a rotated sorted list."
   ]
  },
  {
   "cell_type": "code",
   "execution_count": 26,
   "id": "cdab2f7e",
   "metadata": {},
   "outputs": [],
   "source": [
    "def find_minimum(nums):\n",
    "    left, right = 0, len(nums) - 1\n",
    "\n",
    "    while left < right:\n",
    "        mid = left + (right - left) // 2\n",
    "\n",
    "        if nums[mid] > nums[right]:\n",
    "            left = mid + 1\n",
    "        else:\n",
    "            right = mid\n",
    "\n",
    "    return nums[left]"
   ]
  },
  {
   "cell_type": "code",
   "execution_count": 27,
   "id": "68965e70",
   "metadata": {},
   "outputs": [
    {
     "data": {
      "text/plain": [
       "3"
      ]
     },
     "execution_count": 27,
     "metadata": {},
     "output_type": "execute_result"
    }
   ],
   "source": [
    "find_minimum([2,5,7,3,1,8,8])"
   ]
  },
  {
   "cell_type": "markdown",
   "id": "bcb6ebd7",
   "metadata": {},
   "source": [
    "#### 31. Write a program to find the sum of all even numbers in a list."
   ]
  },
  {
   "cell_type": "code",
   "execution_count": 28,
   "id": "86e3e29e",
   "metadata": {},
   "outputs": [],
   "source": [
    "def even_sum(numbers):\n",
    "    return sum(num for num in numbers if num % 2 == 0)"
   ]
  },
  {
   "cell_type": "code",
   "execution_count": 29,
   "id": "23e1603b",
   "metadata": {},
   "outputs": [
    {
     "data": {
      "text/plain": [
       "20"
      ]
     },
     "execution_count": 29,
     "metadata": {},
     "output_type": "execute_result"
    }
   ],
   "source": [
    "even_sum([1,2,3,4,5,6,7,8,9])"
   ]
  },
  {
   "cell_type": "markdown",
   "id": "ad49eac8",
   "metadata": {},
   "source": [
    "#### 32. Implement a function to calculate the power of a number using recursion."
   ]
  },
  {
   "cell_type": "code",
   "execution_count": 30,
   "id": "5f81f852",
   "metadata": {},
   "outputs": [],
   "source": [
    "def power(base, exponent):\n",
    "    if exponent == 0:\n",
    "        return 1\n",
    "    elif exponent < 0:\n",
    "        return 1 / power(base, -exponent)\n",
    "    else:\n",
    "        return base * power(base, exponent - 1)"
   ]
  },
  {
   "cell_type": "code",
   "execution_count": 31,
   "id": "1f6e70de",
   "metadata": {},
   "outputs": [
    {
     "data": {
      "text/plain": [
       "9"
      ]
     },
     "execution_count": 31,
     "metadata": {},
     "output_type": "execute_result"
    }
   ],
   "source": [
    "power(3, 2)"
   ]
  },
  {
   "cell_type": "markdown",
   "id": "6cc6b3af",
   "metadata": {},
   "source": [
    "#### 33. Write a Python program to remove duplicates from a list while preserving the order."
   ]
  },
  {
   "cell_type": "code",
   "execution_count": 32,
   "id": "d20d5e23",
   "metadata": {},
   "outputs": [],
   "source": [
    "def remove_duplicate(numbers):\n",
    "    seen = set()\n",
    "    return [num for num in numbers if not (num in seen or seen.add(num))]"
   ]
  },
  {
   "cell_type": "code",
   "execution_count": 33,
   "id": "bf0461c0",
   "metadata": {},
   "outputs": [
    {
     "data": {
      "text/plain": [
       "[2, 5, 7, 3, 1, 8]"
      ]
     },
     "execution_count": 33,
     "metadata": {},
     "output_type": "execute_result"
    }
   ],
   "source": [
    "remove_duplicate([2,5,7,3,1,8,8])"
   ]
  },
  {
   "cell_type": "markdown",
   "id": "f676a737",
   "metadata": {},
   "source": [
    "#### 34. Implement a function to find the longest common prefix among a list of strings."
   ]
  },
  {
   "cell_type": "code",
   "execution_count": 34,
   "id": "607a3f58",
   "metadata": {},
   "outputs": [],
   "source": [
    "def com_prefix(strings):\n",
    "    if not strings:\n",
    "        return \"\"\n",
    "\n",
    "    prefix = strings[0]\n",
    "    for string in strings[1:]:\n",
    "        while string[:len(prefix)] != prefix:\n",
    "            prefix = prefix[:-1]\n",
    "            if not prefix:\n",
    "                return \"\"\n",
    "\n",
    "    return prefix"
   ]
  },
  {
   "cell_type": "code",
   "execution_count": 51,
   "id": "dc058f55",
   "metadata": {},
   "outputs": [
    {
     "data": {
      "text/plain": [
       "'fl'"
      ]
     },
     "execution_count": 51,
     "metadata": {},
     "output_type": "execute_result"
    }
   ],
   "source": [
    "com_prefix([\"flower\", \"flow\", \"flight\"])"
   ]
  },
  {
   "cell_type": "markdown",
   "id": "4819f796",
   "metadata": {},
   "source": [
    "#### 35. Write a program to check if a given number is a perfect square."
   ]
  },
  {
   "cell_type": "code",
   "execution_count": 35,
   "id": "1c737f8e",
   "metadata": {},
   "outputs": [],
   "source": [
    "def is_square(num):\n",
    "    if num < 0:\n",
    "        return False\n",
    "\n",
    "    root = int(num ** 0.5)\n",
    "    return root * root == num"
   ]
  },
  {
   "cell_type": "code",
   "execution_count": 36,
   "id": "e78428fa",
   "metadata": {},
   "outputs": [
    {
     "data": {
      "text/plain": [
       "False"
      ]
     },
     "execution_count": 36,
     "metadata": {},
     "output_type": "execute_result"
    }
   ],
   "source": [
    "is_square(24)"
   ]
  },
  {
   "cell_type": "code",
   "execution_count": 37,
   "id": "36cbae92",
   "metadata": {},
   "outputs": [
    {
     "data": {
      "text/plain": [
       "True"
      ]
     },
     "execution_count": 37,
     "metadata": {},
     "output_type": "execute_result"
    }
   ],
   "source": [
    "is_square(16)"
   ]
  },
  {
   "cell_type": "markdown",
   "id": "90d24eae",
   "metadata": {},
   "source": [
    "#### 36. Implement a function to calculate the product of all elements in a list."
   ]
  },
  {
   "cell_type": "code",
   "execution_count": 38,
   "id": "e35c24bc",
   "metadata": {},
   "outputs": [],
   "source": [
    "def elemnts_product(numbers):\n",
    "    if not numbers:\n",
    "        return 1\n",
    "\n",
    "    result = 1\n",
    "    for num in numbers:\n",
    "        result *= num\n",
    "\n",
    "    return result"
   ]
  },
  {
   "cell_type": "code",
   "execution_count": 40,
   "id": "86097c03",
   "metadata": {},
   "outputs": [
    {
     "data": {
      "text/plain": [
       "240"
      ]
     },
     "execution_count": 40,
     "metadata": {},
     "output_type": "execute_result"
    }
   ],
   "source": [
    "elemnts_product([5,4,6,2])"
   ]
  },
  {
   "cell_type": "markdown",
   "id": "44995f72",
   "metadata": {},
   "source": [
    "#### 37. Write a Python program to reverse the order of words in a sentence while preserving the word order."
   ]
  },
  {
   "cell_type": "code",
   "execution_count": 41,
   "id": "0a1d304d",
   "metadata": {},
   "outputs": [],
   "source": [
    "def sentence_reverse(sentence):\n",
    "    words = sentence.split()\n",
    "    return ' '.join(words[::-1])"
   ]
  },
  {
   "cell_type": "code",
   "execution_count": 42,
   "id": "83864a1d",
   "metadata": {},
   "outputs": [
    {
     "data": {
      "text/plain": [
       "'course datascience Pw is This'"
      ]
     },
     "execution_count": 42,
     "metadata": {},
     "output_type": "execute_result"
    }
   ],
   "source": [
    "sentence_reverse('This is Pw datascience course')"
   ]
  },
  {
   "cell_type": "markdown",
   "id": "3ab8ec8d",
   "metadata": {},
   "source": [
    "#### 38. Implement a function to find the missing number in a given list of consecutive numbers."
   ]
  },
  {
   "cell_type": "code",
   "execution_count": 43,
   "id": "f20026c1",
   "metadata": {},
   "outputs": [],
   "source": [
    "def find_missing_num(numbers):\n",
    "    n = len(numbers) + 1\n",
    "    total_sum = (n * (n + 1)) // 2\n",
    "    actual_sum = sum(numbers)\n",
    "    return total_sum - actual_sum"
   ]
  },
  {
   "cell_type": "code",
   "execution_count": 46,
   "id": "0099fcb7",
   "metadata": {},
   "outputs": [
    {
     "data": {
      "text/plain": [
       "5"
      ]
     },
     "execution_count": 46,
     "metadata": {},
     "output_type": "execute_result"
    }
   ],
   "source": [
    "find_missing_num([1,2,3,4,6])"
   ]
  },
  {
   "cell_type": "markdown",
   "id": "59f3bb7b",
   "metadata": {},
   "source": [
    "#### 39. Write a program to find the sum of digits of a given number."
   ]
  },
  {
   "cell_type": "code",
   "execution_count": 47,
   "id": "0b5c0c13",
   "metadata": {},
   "outputs": [],
   "source": [
    "def sum_of_digit(num):\n",
    "    return sum(int(digit) for digit in str(num) if digit.isdigit())"
   ]
  },
  {
   "cell_type": "code",
   "execution_count": 48,
   "id": "083ab098",
   "metadata": {},
   "outputs": [
    {
     "data": {
      "text/plain": [
       "6"
      ]
     },
     "execution_count": 48,
     "metadata": {},
     "output_type": "execute_result"
    }
   ],
   "source": [
    "sum_of_digits(123)"
   ]
  },
  {
   "cell_type": "markdown",
   "id": "ae9f8cd3",
   "metadata": {},
   "source": [
    "#### 40. Implement a function to check if a given string is a valid palindrome considering case sensitivity."
   ]
  },
  {
   "cell_type": "code",
   "execution_count": 49,
   "id": "06c3dea4",
   "metadata": {},
   "outputs": [],
   "source": [
    "def is_valid_palindrome(s):\n",
    "    left, right = 0, len(s) - 1\n",
    "    while left < right:\n",
    "        if s[left] != s[right]:\n",
    "            return False\n",
    "        left += 1\n",
    "        right -= 1\n",
    "    return True"
   ]
  },
  {
   "cell_type": "code",
   "execution_count": 50,
   "id": "ec7628dd",
   "metadata": {},
   "outputs": [
    {
     "data": {
      "text/plain": [
       "False"
      ]
     },
     "execution_count": 50,
     "metadata": {},
     "output_type": "execute_result"
    }
   ],
   "source": [
    "is_valid_palindrome('banana')"
   ]
  },
  {
   "cell_type": "markdown",
   "id": "174ed634",
   "metadata": {},
   "source": [
    "#### 41. Write a Python program to find the smallest missing positive integer in a list."
   ]
  },
  {
   "cell_type": "code",
   "execution_count": 68,
   "id": "d47af7bd",
   "metadata": {},
   "outputs": [],
   "source": [
    "def small_num(nums):\n",
    "    n = len(nums)\n",
    "    for i in range(n):\n",
    "        while 1 <= nums[i] <= n and nums[i] != nums[nums[i] - 1]:\n",
    "            nums[nums[i] - 1], nums[i] = nums[i], nums[nums[i] - 1]\n",
    "    for i in range(n):\n",
    "        if nums[i] != i + 1:\n",
    "            return i + 1\n",
    "    return n + 1"
   ]
  },
  {
   "cell_type": "code",
   "execution_count": 69,
   "id": "945a7b96",
   "metadata": {},
   "outputs": [
    {
     "data": {
      "text/plain": [
       "3"
      ]
     },
     "execution_count": 69,
     "metadata": {},
     "output_type": "execute_result"
    }
   ],
   "source": [
    "small_num([1,2,4,6,7,9])"
   ]
  },
  {
   "cell_type": "markdown",
   "id": "df510fff",
   "metadata": {},
   "source": [
    "#### 42. Implement a function to find the longest palindrome substring in a given string."
   ]
  },
  {
   "cell_type": "code",
   "execution_count": 71,
   "id": "85df9942",
   "metadata": {},
   "outputs": [],
   "source": [
    "def longest_palin_substr(s):\n",
    "    if not s:\n",
    "        return \"\"\n",
    "\n",
    "    n = len(s)\n",
    "    longest = \"\"\n",
    "\n",
    "    def expand_around_center(left, right):\n",
    "        while left >= 0 and right < n and s[left] == s[right]:\n",
    "            left -= 1\n",
    "            right += 1\n",
    "        return s[left + 1:right]\n",
    "\n",
    "    for i in range(n):\n",
    "       \n",
    "        palindrome_odd = expand_around_center(i, i)\n",
    "        if len(palindrome_odd) > len(longest):\n",
    "            longest = palindrome_odd\n",
    "\n",
    "        palindrome_even = expand_around_center(i, i + 1)\n",
    "        if len(palindrome_even) > len(longest):\n",
    "            longest = palindrome_even\n",
    "\n",
    "    return longest"
   ]
  },
  {
   "cell_type": "code",
   "execution_count": 72,
   "id": "76c79cc0",
   "metadata": {},
   "outputs": [
    {
     "data": {
      "text/plain": [
       "'anana'"
      ]
     },
     "execution_count": 72,
     "metadata": {},
     "output_type": "execute_result"
    }
   ],
   "source": [
    "longest_palin_substr('banana')"
   ]
  },
  {
   "cell_type": "markdown",
   "id": "455cb648",
   "metadata": {},
   "source": [
    "#### 43. Write a program to find the number of occurrences of a given element in a list."
   ]
  },
  {
   "cell_type": "code",
   "execution_count": 66,
   "id": "7e2fbb47",
   "metadata": {},
   "outputs": [],
   "source": [
    "def count_occurrences(nums, target):\n",
    "    return nums.count(target)"
   ]
  },
  {
   "cell_type": "code",
   "execution_count": 67,
   "id": "8a909c0b",
   "metadata": {},
   "outputs": [
    {
     "data": {
      "text/plain": [
       "3"
      ]
     },
     "execution_count": 67,
     "metadata": {},
     "output_type": "execute_result"
    }
   ],
   "source": [
    "count_occurrences([2,3,1,4,2,3,5,6,3], 3)"
   ]
  },
  {
   "cell_type": "markdown",
   "id": "a52589e6",
   "metadata": {},
   "source": [
    "#### 44. Implement a function to check if a given number is a perfect number."
   ]
  },
  {
   "cell_type": "code",
   "execution_count": 57,
   "id": "2f8716a4",
   "metadata": {},
   "outputs": [],
   "source": [
    "def is_perfect_num(num):\n",
    "    if num <= 0:\n",
    "        return False\n",
    "    divisors_sum = 0\n",
    "    for i in range(1, int(num**0.5) + 1):\n",
    "        if num % i == 0:\n",
    "            divisors_sum += i\n",
    "            if i != num // i:\n",
    "                divisors_sum += num // i\n",
    "    return divisors_sum - num == num"
   ]
  },
  {
   "cell_type": "code",
   "execution_count": 58,
   "id": "72afa4e3",
   "metadata": {},
   "outputs": [
    {
     "data": {
      "text/plain": [
       "False"
      ]
     },
     "execution_count": 58,
     "metadata": {},
     "output_type": "execute_result"
    }
   ],
   "source": [
    "is_perfect_num(24)"
   ]
  },
  {
   "cell_type": "code",
   "execution_count": 64,
   "id": "08a9790a",
   "metadata": {},
   "outputs": [
    {
     "data": {
      "text/plain": [
       "False"
      ]
     },
     "execution_count": 64,
     "metadata": {},
     "output_type": "execute_result"
    }
   ],
   "source": [
    "is_perfect_num(7)"
   ]
  },
  {
   "cell_type": "markdown",
   "id": "87ae2da1",
   "metadata": {},
   "source": [
    "#### 45. Write a Python program to remove all duplicates from a string."
   ]
  },
  {
   "cell_type": "code",
   "execution_count": 55,
   "id": "fcba7cbc",
   "metadata": {},
   "outputs": [],
   "source": [
    "def remove_duplicate(s):\n",
    "    return ''.join(set(s))"
   ]
  },
  {
   "cell_type": "code",
   "execution_count": 56,
   "id": "88f45c10",
   "metadata": {},
   "outputs": [
    {
     "data": {
      "text/plain": [
       "'abn'"
      ]
     },
     "execution_count": 56,
     "metadata": {},
     "output_type": "execute_result"
    }
   ],
   "source": [
    "remove_duplicate('banana')"
   ]
  },
  {
   "cell_type": "markdown",
   "id": "936e7c61",
   "metadata": {},
   "source": [
    "#### 46. Implement a function to find the first missing positive"
   ]
  },
  {
   "cell_type": "code",
   "execution_count": 52,
   "id": "2c6801f0",
   "metadata": {},
   "outputs": [],
   "source": [
    "def first_missing(nums):\n",
    "    n = len(nums)\n",
    "    for i in range(n):\n",
    "        while 1 <= nums[i] <= n and nums[i] != nums[nums[i] - 1]:\n",
    "            nums[nums[i] - 1], nums[i] = nums[i], nums[nums[i] - 1]\n",
    "    for i in range(n):\n",
    "        if nums[i] != i + 1:\n",
    "            return i + 1\n",
    "    return n + 1"
   ]
  },
  {
   "cell_type": "code",
   "execution_count": 65,
   "id": "0f12cd12",
   "metadata": {},
   "outputs": [
    {
     "data": {
      "text/plain": [
       "2"
      ]
     },
     "execution_count": 65,
     "metadata": {},
     "output_type": "execute_result"
    }
   ],
   "source": [
    "first_missing([3, 4, -1, 1])"
   ]
  },
  {
   "cell_type": "code",
   "execution_count": null,
   "id": "65a64355",
   "metadata": {},
   "outputs": [],
   "source": []
  }
 ],
 "metadata": {
  "kernelspec": {
   "display_name": "Python 3 (ipykernel)",
   "language": "python",
   "name": "python3"
  },
  "language_info": {
   "codemirror_mode": {
    "name": "ipython",
    "version": 3
   },
   "file_extension": ".py",
   "mimetype": "text/x-python",
   "name": "python",
   "nbconvert_exporter": "python",
   "pygments_lexer": "ipython3",
   "version": "3.10.9"
  }
 },
 "nbformat": 4,
 "nbformat_minor": 5
}
