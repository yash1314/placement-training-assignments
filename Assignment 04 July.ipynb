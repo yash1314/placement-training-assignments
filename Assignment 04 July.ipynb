{
 "cells": [
  {
   "cell_type": "markdown",
   "id": "04426258",
   "metadata": {},
   "source": [
    "**Question 1**\n",
    "\n",
    "Given two strings s1 and s2, return *the lowest **ASCII** sum of deleted characters to make two strings equal*.\n",
    "\n",
    "**Example 1:**\n",
    "\n",
    "Input: s1 = \"sea\", s2 = \"eat\"\n",
    "\n",
    "Output: 231\n",
    "\n",
    "Explanation: Deleting \"s\" from \"sea\" adds the ASCII value of \"s\" (115) to the sum.\n",
    "\n",
    "Deleting \"t\" from \"eat\" adds 116 to the sum.\n",
    "\n",
    "At the end, both strings are equal, and 115 + 116 = 231 is the minimum sum possible to achieve this."
   ]
  },
  {
   "cell_type": "code",
   "execution_count": 21,
   "id": "6c362a68",
   "metadata": {},
   "outputs": [],
   "source": [
    "def minimumDeleteSum(s1, s2):\n",
    "    m = len(s1)\n",
    "    n = len(s2)\n",
    "\n",
    "    dp = [[0 for i in range(len(s1) + 1)] for j in range(len(s2) + 1)]\n",
    "\n",
    "    for i in range(len(s2) + 1):\n",
    "        for j in range(len(s1) + 1):\n",
    "            if i == 0 and j == 0: \n",
    "                continue\n",
    "            elif i == 0:\n",
    "                dp[i][j] += dp[i][j-1] + ord(s1[j-1])\n",
    "            elif j  == 0:\n",
    "                dp[i][j] += dp[i-1][j] + ord(s2[i-1])\n",
    "            elif s1[j-1] == s2[i-1]:\n",
    "                dp[i][j] = dp[i-1][j-1]\n",
    "            else:\n",
    "                dp[i][j] = min(ord(s1[j-1]) + dp[i][j-1], ord(s2[i-1]) + dp[i-1][j])\n",
    "\n",
    "    return dp[n][m]"
   ]
  },
  {
   "cell_type": "code",
   "execution_count": 22,
   "id": "c51c4e89",
   "metadata": {},
   "outputs": [
    {
     "data": {
      "text/plain": [
       "231"
      ]
     },
     "execution_count": 22,
     "metadata": {},
     "output_type": "execute_result"
    }
   ],
   "source": [
    "minimumDeleteSum( s1 = \"sea\", s2 = \"eat\")"
   ]
  },
  {
   "cell_type": "markdown",
   "id": "fb9aea95",
   "metadata": {},
   "source": [
    "**Question 2**\n",
    "\n",
    "Given a string s containing only three types of characters: '(', ')' and '*', return true *if* s *is **valid***.\n",
    "\n",
    "The following rules define a **valid** string:\n",
    "\n",
    "- Any left parenthesis '(' must have a corresponding right parenthesis ')'.\n",
    "- Any right parenthesis ')' must have a corresponding left parenthesis '('.\n",
    "- Left parenthesis '(' must go before the corresponding right parenthesis ')'.\n",
    "- '*' could be treated as a single right parenthesis ')' or a single left parenthesis '(' or an empty string \"\".\n",
    "\n",
    "**Example 1:**\n",
    "\n",
    "Input: s = \"()\"\n",
    "\n",
    "Output:\n",
    "\n",
    "true"
   ]
  },
  {
   "cell_type": "code",
   "execution_count": 18,
   "id": "f6773c82",
   "metadata": {},
   "outputs": [],
   "source": [
    "def checkValidString(s):\n",
    "    leftMax, leftMin = 0, 0\n",
    "    for char in s:\n",
    "        if char == '(':\n",
    "            leftMax, leftMin = leftMax + 1, leftMin + 1\n",
    "        elif char == ')':\n",
    "            leftMax, leftMin = leftMax - 1, leftMin - 1\n",
    "        else:\n",
    "            leftMax, leftMin = leftMax + 1, leftMin - 1\n",
    "\n",
    "        if leftMax < 0:\n",
    "            return False\n",
    "        if leftMin < 0:\n",
    "            leftMin = 0\n",
    "\n",
    "    return leftMin == 0"
   ]
  },
  {
   "cell_type": "code",
   "execution_count": 19,
   "id": "c5d8632d",
   "metadata": {},
   "outputs": [
    {
     "data": {
      "text/plain": [
       "True"
      ]
     },
     "execution_count": 19,
     "metadata": {},
     "output_type": "execute_result"
    }
   ],
   "source": [
    "checkValidString(s = \"()\")"
   ]
  },
  {
   "cell_type": "markdown",
   "id": "c8a15e30",
   "metadata": {},
   "source": [
    "**Question 3**\n",
    "\n",
    "Given two strings word1 and word2, return *the minimum number of **steps** required to make* word1 *and* word2 *the same*.\n",
    "\n",
    "In one **step**, you can delete exactly one character in either string.\n",
    "\n",
    "**Example 1:**\n",
    "\n",
    "Input: word1 = \"sea\", word2 = \"eat\"\n",
    "\n",
    "Output: 2\n",
    "\n",
    "Explanation: You need one step to make \"sea\" to \"ea\" and another step to make \"eat\" to \"ea\"."
   ]
  },
  {
   "cell_type": "code",
   "execution_count": 16,
   "id": "24f52e56",
   "metadata": {},
   "outputs": [],
   "source": [
    "def minDistance(word1, word2):\n",
    "    m = len(word1)\n",
    "    n = len(word2)\n",
    "    a = []\n",
    "    for i in range(m+1):\n",
    "        a.append([])\n",
    "        for j in range(n+1):\n",
    "            a[-1].append(0)\n",
    "\n",
    "    for i in range(m):\n",
    "        for j in range(n):\n",
    "            if word1[i]==word2[j]:\n",
    "                a[i+1][j+1] = 1 + a[i][j]\n",
    "            else:\n",
    "                a[i+1][j+1] = max( a[i][j+1], a[i+1][j])\n",
    "\n",
    "    return m + n - ( 2 * a [-1][-1] )"
   ]
  },
  {
   "cell_type": "code",
   "execution_count": 17,
   "id": "42bde495",
   "metadata": {},
   "outputs": [
    {
     "data": {
      "text/plain": [
       "2"
      ]
     },
     "execution_count": 17,
     "metadata": {},
     "output_type": "execute_result"
    }
   ],
   "source": [
    "minDistance(word1 = \"sea\", word2 = \"eat\")"
   ]
  },
  {
   "cell_type": "markdown",
   "id": "d26591a1",
   "metadata": {},
   "source": [
    "**Question 4**\n",
    "\n",
    "You need to construct a binary tree from a string consisting of parenthesis and integers.\n",
    "\n",
    "The whole input represents a binary tree. It contains an integer followed by zero, one or two pairs of parenthesis. The integer represents the root's value and a pair of parenthesis contains a child binary tree with the same structure.\n",
    "You always start to construct the **left** child node of the parent first if it exists.\n",
    "\n",
    "</aside>\n",
    "\n",
    "Input: s = \"4(2(3)(1))(6(5))\"\n",
    "\n",
    "Output: [4,2,6,3,1,5]"
   ]
  },
  {
   "cell_type": "code",
   "execution_count": 70,
   "id": "aecbcd27",
   "metadata": {},
   "outputs": [],
   "source": [
    "class TreeNode:\n",
    "    def __init__(self, val=0, left=None, right=None):\n",
    "        self.val = val\n",
    "        self.left = left\n",
    "        self.right = right\n",
    "\n",
    "def str2tree(s):\n",
    "    if not s:\n",
    "        return None\n",
    "\n",
    "    num, i = '', 0\n",
    "    while i < len(s) and s[i] not in '()':\n",
    "        num += s[i]\n",
    "        i += 1\n",
    "\n",
    "    node = TreeNode(int(num))\n",
    "    if i < len(s):\n",
    "        j = i + 1\n",
    "        count = 1\n",
    "        while j < len(s) and count != 0:\n",
    "            if s[j] == '(':\n",
    "                count += 1\n",
    "            elif s[j] == ')':\n",
    "                count -= 1\n",
    "            j += 1\n",
    "        node.left = str2tree(s[i+1:j-1])\n",
    "        if j < len(s) and s[j] == '(':\n",
    "            node.right = str2tree(s[j+1:len(s)-1])\n",
    "\n",
    "    return node\n",
    "\n",
    "def inorder_traversal(root):\n",
    "    if not root:\n",
    "        return []\n",
    "    return inorder_traversal(root.left) + [root.val] + inorder_traversal(root.right)"
   ]
  },
  {
   "cell_type": "code",
   "execution_count": 71,
   "id": "7e4c8c1b",
   "metadata": {},
   "outputs": [
    {
     "name": "stdout",
     "output_type": "stream",
     "text": [
      "[3, 2, 1, 4, 5, 6]\n"
     ]
    }
   ],
   "source": [
    "s = \"4(2(3)(1))(6(5))\"\n",
    "root = str2tree(s)\n",
    "result = inorder_traversal(root)\n",
    "print(result)"
   ]
  },
  {
   "cell_type": "markdown",
   "id": "7206dacf",
   "metadata": {},
   "source": [
    "**Question 5**\n",
    "\n",
    "Given an array of characters chars, compress it using the following algorithm:\n",
    "\n",
    "Begin with an empty string s. For each group of **consecutive repeating characters** in chars:\n",
    "\n",
    "- If the group's length is 1, append the character to s.\n",
    "- Otherwise, append the character followed by the group's length.\n",
    "\n",
    "The compressed string s **should not be returned separately**, but instead, be stored **in the input character array chars**. Note that group lengths that are 10 or longer will be split into multiple characters in chars.\n",
    "\n",
    "After you are done **modifying the input array,** return *the new length of the array*.\n",
    "\n",
    "You must write an algorithm that uses only constant extra space.\n",
    "\n",
    "**Example 1:**\n",
    "\n",
    "Input: chars = [\"a\",\"a\",\"b\",\"b\",\"c\",\"c\",\"c\"]\n",
    "\n",
    "Output: Return 6, and the first 6 characters of the input array should be: [\"a\",\"2\",\"b\",\"2\",\"c\",\"3\"]\n",
    "\n",
    "Explanation:\n",
    "\n",
    "The groups are \"aa\", \"bb\", and \"ccc\". This compresses to \"a2b2c3\".\n",
    "\n",
    "</aside>"
   ]
  },
  {
   "cell_type": "code",
   "execution_count": 10,
   "id": "b350e4b8",
   "metadata": {},
   "outputs": [],
   "source": [
    "def compress(chars):\n",
    "\n",
    "    n, ptr, cnt = len(chars), 0, 1\n",
    "\n",
    "    for i in range(1,n+1):\n",
    "\n",
    "        if i < n and chars[i] == chars[i-1]: cnt += 1\n",
    "\n",
    "        else:\n",
    "            chars[ptr] = chars[i-1]\n",
    "            ptr+= 1\n",
    "\n",
    "            if cnt > 1:\n",
    "                s = str(cnt)\n",
    "                m = len(s)\n",
    "                chars[ptr : ptr + m] = s\n",
    "                ptr+= m\n",
    "\n",
    "            cnt = 1\n",
    "    return ptr"
   ]
  },
  {
   "cell_type": "code",
   "execution_count": 11,
   "id": "16e32cae",
   "metadata": {},
   "outputs": [
    {
     "data": {
      "text/plain": [
       "6"
      ]
     },
     "execution_count": 11,
     "metadata": {},
     "output_type": "execute_result"
    }
   ],
   "source": [
    "compress(chars = [\"a\",\"a\",\"b\",\"b\",\"c\",\"c\",\"c\"])"
   ]
  },
  {
   "cell_type": "markdown",
   "id": "c52963d0",
   "metadata": {},
   "source": [
    "**Question 6**\n",
    "\n",
    "Given two strings s and p, return *an array of all the start indices of* p*'s anagrams in* s. You may return the answer in **any order**.\n",
    "\n",
    "An **Anagram** is a word or phrase formed by rearranging the letters of a different word or phrase, typically using all the original letters exactly once.\n",
    "\n",
    "**Example 1:**\n",
    "\n",
    "Input: s = \"cbaebabacd\", p = \"abc\"\n",
    "\n",
    "Output: [0,6]\n",
    "\n",
    "Explanation:\n",
    "\n",
    "The substring with start index = 0 is \"cba\", which is an anagram of \"abc\".\n",
    "\n",
    "The substring with start index = 6 is \"bac\", which is an anagram of \"abc\".\n",
    "\n",
    "</aside>"
   ]
  },
  {
   "cell_type": "code",
   "execution_count": 7,
   "id": "7e9aaba2",
   "metadata": {},
   "outputs": [],
   "source": [
    "def findAnagrams(s, p):\n",
    "    res = []\n",
    "    p = sorted(p)\n",
    "    for i in range(len(s) - len(p) + 1):\n",
    "        if p == sorted(s[i:i+len(p)]):\n",
    "            res.append(i)\n",
    "    return res"
   ]
  },
  {
   "cell_type": "code",
   "execution_count": 8,
   "id": "6eea0fb2",
   "metadata": {},
   "outputs": [
    {
     "data": {
      "text/plain": [
       "[0, 6]"
      ]
     },
     "execution_count": 8,
     "metadata": {},
     "output_type": "execute_result"
    }
   ],
   "source": [
    "findAnagrams(s = \"cbaebabacd\", p = \"abc\")"
   ]
  },
  {
   "cell_type": "markdown",
   "id": "c71db2cc",
   "metadata": {},
   "source": [
    "**Question 7**\n",
    "\n",
    "Given an encoded string, return its decoded string.\n",
    "\n",
    "The encoding rule is: k[encoded_string], where the encoded_string inside the square brackets is being repeated exactly k times. Note that k is guaranteed to be a positive integer.\n",
    "\n",
    "You may assume that the input string is always valid; there are no extra white spaces, square brackets are well-formed, etc. Furthermore, you may assume that the original data does not contain any digits and that digits are only for those repeat numbers, k. For example, there will not be input like 3a or 2[4].\n",
    "\n",
    "The test cases are generated so that the length of the output will never exceed 105.\n",
    "\n",
    "Example 1:\n",
    "\n",
    "Input: s = \"3[a]2[bc]\"\n",
    "\n",
    "Output: \"aaabcbc\"\n",
    "\n",
    "</aside>"
   ]
  },
  {
   "cell_type": "code",
   "execution_count": 5,
   "id": "902bd863",
   "metadata": {},
   "outputs": [],
   "source": [
    "def decodeString(s):\n",
    "    \n",
    "    res,num = \"\",0\n",
    "    st = []\n",
    "    for c in s:\n",
    "        if c.isdigit():\n",
    "            num = num*10+int(c)    \n",
    "        elif c==\"[\":\n",
    "            st.append(res)\n",
    "            st.append(num)\n",
    "            res=\"\"\n",
    "            num=0\n",
    "        elif c==\"]\":\n",
    "            pnum = st.pop()\n",
    "            pstr = st.pop()\n",
    "            res = pstr + pnum*res\n",
    "        else:\n",
    "            res+=c\n",
    "    \n",
    "    return res"
   ]
  },
  {
   "cell_type": "code",
   "execution_count": 6,
   "id": "aa444a31",
   "metadata": {},
   "outputs": [
    {
     "data": {
      "text/plain": [
       "'aaabcbc'"
      ]
     },
     "execution_count": 6,
     "metadata": {},
     "output_type": "execute_result"
    }
   ],
   "source": [
    "decodeString(s = \"3[a]2[bc]\")"
   ]
  },
  {
   "cell_type": "markdown",
   "id": "265c45d9",
   "metadata": {},
   "source": [
    "**Question 8**\n",
    "\n",
    "Given two strings s and goal, return true *if you can swap two letters in* s *so the result is equal to* goal*, otherwise, return* false*.*\n",
    "\n",
    "Swapping letters is defined as taking two indices i and j (0-indexed) such that i != j and swapping the characters at s[i] and s[j].\n",
    "\n",
    "- For example, swapping at indices 0 and 2 in \"abcd\" results in \"cbad\".\n",
    "\n",
    "**Example 1:**\n",
    "\n",
    "Input: s = \"ab\", goal = \"ba\"\n",
    "\n",
    "Output: true\n",
    "\n",
    "Explanation: You can swap s[0] = 'a' and s[1] = 'b' to get \"ba\", which is equal to goal.\n",
    "\n",
    "</aside>"
   ]
  },
  {
   "cell_type": "code",
   "execution_count": 3,
   "id": "5d8b8e82",
   "metadata": {},
   "outputs": [],
   "source": [
    "def buddyStrings(s, goal):\n",
    "    if s == goal:\n",
    "        if len(set(s)) < len(goal):\n",
    "            return True\n",
    "        else:\n",
    "            return False\n",
    "\n",
    "    for i in range(len(s)):\n",
    "        if s[i] != goal[i]:\n",
    "            for j in range(len(goal)-1,i,-1):\n",
    "                if s[i] == goal[j]:\n",
    "                    s = s[0:i]+s[j] +s[i+1:j]+s[i]+s[j+1:]\n",
    "                    if s == goal:\n",
    "                        return True\n",
    "                    else:\n",
    "                        return False"
   ]
  },
  {
   "cell_type": "code",
   "execution_count": 4,
   "id": "8405b26d",
   "metadata": {},
   "outputs": [
    {
     "data": {
      "text/plain": [
       "True"
      ]
     },
     "execution_count": 4,
     "metadata": {},
     "output_type": "execute_result"
    }
   ],
   "source": [
    "buddyStrings(s = \"ab\", goal = \"ba\")"
   ]
  }
 ],
 "metadata": {
  "kernelspec": {
   "display_name": "Python 3 (ipykernel)",
   "language": "python",
   "name": "python3"
  },
  "language_info": {
   "codemirror_mode": {
    "name": "ipython",
    "version": 3
   },
   "file_extension": ".py",
   "mimetype": "text/x-python",
   "name": "python",
   "nbconvert_exporter": "python",
   "pygments_lexer": "ipython3",
   "version": "3.10.9"
  }
 },
 "nbformat": 4,
 "nbformat_minor": 5
}
